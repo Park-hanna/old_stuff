{
 "cells": [
  {
   "cell_type": "markdown",
   "id": "f8487604",
   "metadata": {},
   "source": [
    "# 201958061 박한나 BDA HW1"
   ]
  },
  {
   "cell_type": "markdown",
   "id": "d0c31bce",
   "metadata": {},
   "source": [
    "# 문제 1\n",
    "2개의 원소를 가지는 튜플 리스트를 x,y 로 나눠 2개의 리스트로 반환하는 \n",
    "unzip() 함수 작성 및 테스트"
   ]
  },
  {
   "cell_type": "code",
   "execution_count": 1,
   "id": "c068bc40",
   "metadata": {},
   "outputs": [],
   "source": [
    "data = [(3,6),(2.1,5),(9.3,10),(4,2),(-2,7)]"
   ]
  },
  {
   "cell_type": "code",
   "execution_count": 40,
   "id": "2dedffee",
   "metadata": {},
   "outputs": [],
   "source": [
    "def unzip(data):\n",
    "    \"\"\"\n",
    "    unzip function \n",
    "    a는 각 튜플의 첫번째 원소들만 list 형태로 추출\n",
    "    b는 각 튜플의 두번째 원소들만 list 형태로 추출\n",
    "    그 후 a,b 반환\n",
    "    \"\"\"\n",
    "    a = [x[0] for x in data] \n",
    "    b = [x[1] for x in data]\n",
    "    return a,b"
   ]
  },
  {
   "cell_type": "code",
   "execution_count": 41,
   "id": "6f1074a9",
   "metadata": {},
   "outputs": [],
   "source": [
    "x, y = unzip(data)"
   ]
  },
  {
   "cell_type": "code",
   "execution_count": 42,
   "id": "522743a8",
   "metadata": {},
   "outputs": [
    {
     "name": "stdout",
     "output_type": "stream",
     "text": [
      "[3, 2.1, 9.3, 4, -2]\n"
     ]
    }
   ],
   "source": [
    "print(x)"
   ]
  },
  {
   "cell_type": "code",
   "execution_count": 39,
   "id": "78d5ea90",
   "metadata": {},
   "outputs": [
    {
     "name": "stdout",
     "output_type": "stream",
     "text": [
      "[6, 5, 10, 2, 7]\n"
     ]
    }
   ],
   "source": [
    "print(y)"
   ]
  },
  {
   "cell_type": "markdown",
   "id": "5475846f",
   "metadata": {},
   "source": [
    "# 문제 2"
   ]
  },
  {
   "cell_type": "markdown",
   "id": "f7d28f91",
   "metadata": {},
   "source": [
    "주어진 파일을 읽어 각 키워드의 빈도수와 그것을 기준으로 정렬한 리스트 반환 함수 keyword_count(filename) 함수 정의 및 주어진 파일에 대한 결과 출력"
   ]
  },
  {
   "cell_type": "code",
   "execution_count": 39,
   "id": "eff6274a",
   "metadata": {},
   "outputs": [],
   "source": [
    "import keyword\n",
    "kwset = set(keyword.kwlist)\n",
    "\n",
    "def keyword_count(filename):\n",
    "    \"\"\"\n",
    "    파일 읽기\n",
    "    읽어 온 파일 :를 ' '으로 전처리\n",
    "    전처리 후 list로 저장된 것을 string으로 바꿔서 \n",
    "    split을 이용해 공백을 기준으로 단어 분리\n",
    "    분리한 단어들과 set으로 만든 keyword list를 비교\n",
    "    words에 kwset이 있으면 딕셔너리 wordCount에 해당 단어와 빈도수를 저장\n",
    "    저장된 딕셔너리를 list로 변환하고 두번째원소를 기준으로 내림차순 정렬 실행 후 \n",
    "    list형태로 반환\n",
    "    \"\"\"\n",
    "    f = open(filename, \"r\")\n",
    "    infile = f.readlines()\n",
    "        \n",
    "    f.close()\n",
    "    wordCount = {}\n",
    "    file_re = []\n",
    "    for i in infile:\n",
    "        temp = i.replace(':','')\n",
    "        file_re.append(temp)   \n",
    "        file_st = \" \".join(file_re)        \n",
    "        words = file_st.split()\n",
    "\n",
    "    for word in words:\n",
    "        if word in kwset:\n",
    "            wordCount[word] = wordCount.get(word,0)+1\n",
    "            keys = sorted(wordCount.keys())\n",
    "    \n",
    "    kwlist = list(zip(wordCount.keys(),wordCount.values()))\n",
    "    kwlist.sort(key=lambda x:-x[1])\n",
    "    \n",
    "    return kwlist    "
   ]
  },
  {
   "cell_type": "code",
   "execution_count": 40,
   "id": "0b6e1258",
   "metadata": {},
   "outputs": [
    {
     "name": "stdout",
     "output_type": "stream",
     "text": [
      "[('def', 36), ('return', 18), ('in', 16), ('if', 13), ('for', 10), ('from', 7), ('import', 6), ('as', 6), ('class', 6), ('and', 6), ('not', 6), ('raise', 5), ('is', 5), ('True', 4), ('with', 4), ('else', 3), ('None', 3), ('try', 2), ('except', 2), ('assert', 1), ('yield', 1), ('del', 1)]\n"
     ]
    }
   ],
   "source": [
    "print(keyword_count('mystery.py'))"
   ]
  },
  {
   "cell_type": "markdown",
   "id": "987ac3e9",
   "metadata": {},
   "source": [
    "# 문제 3"
   ]
  },
  {
   "cell_type": "markdown",
   "id": "8563e9ba",
   "metadata": {},
   "source": [
    "모든 변과 각의 크기가 같은 정다각형. RegularPolygon Class 를 아래 해당 데이터 필드와 메서드를 포함하여 구현하라. "
   ]
  },
  {
   "cell_type": "markdown",
   "id": "6af072b4",
   "metadata": {},
   "source": [
    "데이터 필드 (기본값) : 변의 개수(3), 변의 길이(1)  \n",
    "모든 데이터 필드에 대한 접근자(getter), 변경자(setter) 메서드  \n",
    "내각을 반환하는 메서드 : getIntAngle 공식 : 180*(변의 개수-2)/변의 개수  \n",
    "둘레를 반환하는 메서드 : getPerimeter 공식 : 변의 개수 * 변의 길이  \n",
    "면적을 반환하는 메서드 : getArea (면적 구하는 값은 자료 참고)  \n",
    "제시 독스트링 작성"
   ]
  },
  {
   "cell_type": "markdown",
   "id": "28267d05",
   "metadata": {},
   "source": [
    "(a) RegularPolygon(6, 3)을 사용하여 생성되는 객체에 대하여 변의 개수, 변의 길이, 내각의 크기, 둘레, 넓이를 차례대로 출력하시오.  \n",
    "(b) RegularPolygon(4) 객체에 대하여 위와 동일한 출력을 하시오.  \n",
    "(c) RegularPolygon() 객체를 생성한 후, 변의 길이를 5로 지정하고 나서 위와 동일한 출력을 하시오.  "
   ]
  },
  {
   "cell_type": "code",
   "execution_count": 497,
   "id": "fb5054f6",
   "metadata": {},
   "outputs": [],
   "source": [
    "import math\n",
    "class RegularPolygon:\n",
    "    \"\"\"\n",
    "    정다각형(등변 & 등각)\n",
    "    \n",
    "    parameters\n",
    "    -----------\n",
    "    n : int ,default : 3\n",
    "        변의 개수\n",
    "    s : float, default : 1.0\n",
    "        변의 길이\n",
    "    \"\"\"\n",
    "    def __init__(self, n=3, l=1.):\n",
    "        self.count = n\n",
    "        self.length = l     \n",
    "    \n",
    "    def getdata(self):\n",
    "        return self.count, self.length\n",
    "    def setdata(self,line):\n",
    "        self.length = line        \n",
    "    \n",
    "    def getIntAngle(self):\n",
    "        self.angle = 180*(self.count - 2)/self.count\n",
    "        return self.angle\n",
    "    def getPerimeter(self):\n",
    "        self.perimeter = self.count * self.length\n",
    "        return self.perimeter\n",
    "    def getArea(self):\n",
    "        self.area = (self.count* self.length**2)/(4 * math.tan(math.pi / self.count)) \n",
    "        return self.area\n",
    "    \n",
    "    def getPrint(self):        \n",
    "        print(\"변의 개수 = \",self.count)\n",
    "        print(\"변의 길이 = \",self.length)\n",
    "        print('내각 = ',self.angle,'도')\n",
    "        print('둘레 = ',self.perimeter)\n",
    "        print('면적 = ',self.area)\n",
    "        return         "
   ]
  },
  {
   "cell_type": "markdown",
   "id": "2ae24176",
   "metadata": {},
   "source": [
    "데이터 필드가 기본 값일 경우(변의 개수 3, 변의 길이 1)"
   ]
  },
  {
   "cell_type": "code",
   "execution_count": 498,
   "id": "be962ef9",
   "metadata": {},
   "outputs": [
    {
     "name": "stdout",
     "output_type": "stream",
     "text": [
      "60.0\n",
      "3.0\n",
      "0.43301270189221946\n"
     ]
    }
   ],
   "source": [
    "ma = RegularPolygon()\n",
    "print(ma.getIntAngle())\n",
    "print(ma.getPerimeter())\n",
    "print(ma.getArea())"
   ]
  },
  {
   "cell_type": "markdown",
   "id": "ff97ac4b",
   "metadata": {},
   "source": [
    "독스트링"
   ]
  },
  {
   "cell_type": "code",
   "execution_count": 464,
   "id": "28523c69",
   "metadata": {},
   "outputs": [],
   "source": [
    "RegularPolygon??"
   ]
  },
  {
   "cell_type": "markdown",
   "id": "68011f07",
   "metadata": {},
   "source": [
    "a) RegularPolygon(6,3)"
   ]
  },
  {
   "cell_type": "code",
   "execution_count": 499,
   "id": "7551472b",
   "metadata": {},
   "outputs": [
    {
     "name": "stdout",
     "output_type": "stream",
     "text": [
      "변의 개수 =  6\n",
      "변의 길이 =  3\n",
      "내각 =  120.0 도\n",
      "둘레 =  18\n",
      "면적 =  23.382685902179844\n"
     ]
    }
   ],
   "source": [
    "a = RegularPolygon(6,3)\n",
    "a.getIntAngle()\n",
    "a.getPerimeter()\n",
    "a.getArea()\n",
    "a.getPrint()"
   ]
  },
  {
   "cell_type": "markdown",
   "id": "b3eb2598",
   "metadata": {},
   "source": [
    "b) RegularPolygon(4)"
   ]
  },
  {
   "cell_type": "code",
   "execution_count": 500,
   "id": "28326a48",
   "metadata": {},
   "outputs": [
    {
     "name": "stdout",
     "output_type": "stream",
     "text": [
      "변의 개수 =  4\n",
      "변의 길이 =  1.0\n",
      "내각 =  90.0 도\n",
      "둘레 =  4.0\n",
      "면적 =  1.0000000000000002\n"
     ]
    }
   ],
   "source": [
    "b = RegularPolygon(4)\n",
    "b.getIntAngle()\n",
    "b.getPerimeter()\n",
    "b.getArea()\n",
    "b.getPrint()"
   ]
  },
  {
   "cell_type": "markdown",
   "id": "0749bab3",
   "metadata": {},
   "source": [
    "c) RegularPolygon() 변의 길이 5"
   ]
  },
  {
   "cell_type": "code",
   "execution_count": 502,
   "id": "9b105bfa",
   "metadata": {},
   "outputs": [
    {
     "name": "stdout",
     "output_type": "stream",
     "text": [
      "변의 개수 =  3\n",
      "변의 길이 =  5.0\n",
      "내각 =  60.0 도\n",
      "둘레 =  15.0\n",
      "면적 =  10.825317547305486\n"
     ]
    }
   ],
   "source": [
    "c = RegularPolygon()\n",
    "c.setdata(5.)\n",
    "c.getIntAngle()\n",
    "c.getPerimeter()\n",
    "c.getArea()\n",
    "c.getPrint()"
   ]
  },
  {
   "cell_type": "code",
   "execution_count": null,
   "id": "f6559ea6",
   "metadata": {},
   "outputs": [],
   "source": []
  }
 ],
 "metadata": {
  "kernelspec": {
   "display_name": "Python 3",
   "language": "python",
   "name": "python3"
  },
  "language_info": {
   "codemirror_mode": {
    "name": "ipython",
    "version": 3
   },
   "file_extension": ".py",
   "mimetype": "text/x-python",
   "name": "python",
   "nbconvert_exporter": "python",
   "pygments_lexer": "ipython3",
   "version": "3.8.8"
  }
 },
 "nbformat": 4,
 "nbformat_minor": 5
}
