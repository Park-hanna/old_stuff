{
 "cells": [
  {
   "cell_type": "code",
   "execution_count": 1,
   "id": "8de5e026",
   "metadata": {},
   "outputs": [],
   "source": [
    "import numpy as np\n",
    "import tensorflow as tf"
   ]
  },
  {
   "cell_type": "code",
   "execution_count": 15,
   "id": "2af9e177",
   "metadata": {},
   "outputs": [],
   "source": [
    "ds_x = tf.data.Dataset.from_tensor_slices([[1.,2],[3,4],[5,6],[7,8],[9,10]])"
   ]
  },
  {
   "cell_type": "code",
   "execution_count": 17,
   "id": "3941c4b5",
   "metadata": {},
   "outputs": [],
   "source": [
    "ds_y = tf.data.Dataset.from_tensor_slices([0,1,2,3,4])"
   ]
  },
  {
   "cell_type": "code",
   "execution_count": 18,
   "id": "d4186f12",
   "metadata": {},
   "outputs": [],
   "source": [
    "ds_joint = tf.data.Dataset.zip((ds_x, ds_y))"
   ]
  },
  {
   "cell_type": "code",
   "execution_count": 19,
   "id": "33d03723",
   "metadata": {},
   "outputs": [
    {
     "name": "stdout",
     "output_type": "stream",
     "text": [
      "[1. 2.] 0\n",
      "[3. 4.] 1\n",
      "[5. 6.] 2\n",
      "[7. 8.] 3\n",
      "[ 9. 10.] 4\n"
     ]
    }
   ],
   "source": [
    "for ex in ds_joint:\n",
    "    print(ex[0].numpy(), ex[1].numpy())"
   ]
  },
  {
   "cell_type": "code",
   "execution_count": 20,
   "id": "bdb7356b",
   "metadata": {},
   "outputs": [],
   "source": [
    "ds_map = ds_joint.map(lambda x, y: (x/10.0, y))"
   ]
  },
  {
   "cell_type": "code",
   "execution_count": 21,
   "id": "e49b0c22",
   "metadata": {},
   "outputs": [
    {
     "name": "stdout",
     "output_type": "stream",
     "text": [
      "[0.1 0.2] 0\n",
      "[0.3 0.4] 1\n",
      "[0.5 0.6] 2\n",
      "[0.7 0.8] 3\n",
      "[0.9 1. ] 4\n"
     ]
    }
   ],
   "source": [
    "for ex in ds_map:\n",
    "    print(ex[0].numpy(), ex[1].numpy())"
   ]
  },
  {
   "cell_type": "code",
   "execution_count": 24,
   "id": "ea5eca3a",
   "metadata": {},
   "outputs": [],
   "source": [
    "tf.random.set_seed(1)\n",
    "ds = ds_map.shuffle(buffer_size = 100)"
   ]
  },
  {
   "cell_type": "code",
   "execution_count": 25,
   "id": "25395b89",
   "metadata": {},
   "outputs": [
    {
     "name": "stdout",
     "output_type": "stream",
     "text": [
      "[0.3 0.4] 1\n",
      "[0.5 0.6] 2\n",
      "[0.1 0.2] 0\n",
      "[0.9 1. ] 4\n",
      "[0.7 0.8] 3\n"
     ]
    }
   ],
   "source": [
    "for ex in ds:\n",
    "    print(ex[0].numpy(), ex[1].numpy())"
   ]
  },
  {
   "cell_type": "code",
   "execution_count": 26,
   "id": "230faf6b",
   "metadata": {},
   "outputs": [],
   "source": [
    "ds_batch = ds.batch(batch_size = 2)"
   ]
  },
  {
   "cell_type": "code",
   "execution_count": 27,
   "id": "662abed5",
   "metadata": {},
   "outputs": [
    {
     "name": "stdout",
     "output_type": "stream",
     "text": [
      "[[0.1 0.2]\n",
      " [0.9 1. ]] [0 4]\n",
      "[[0.7 0.8]\n",
      " [0.5 0.6]] [3 2]\n",
      "[[0.3 0.4]] [1]\n"
     ]
    }
   ],
   "source": [
    "for ex in ds_batch:\n",
    "    print(ex[0].numpy(), ex[1].numpy())"
   ]
  },
  {
   "cell_type": "code",
   "execution_count": 28,
   "id": "44e191e6",
   "metadata": {},
   "outputs": [],
   "source": [
    "ds_batch2 = ds.batch(batch_size =2, drop_remainder = True)"
   ]
  },
  {
   "cell_type": "code",
   "execution_count": 31,
   "id": "552fb7e8",
   "metadata": {},
   "outputs": [
    {
     "name": "stdout",
     "output_type": "stream",
     "text": [
      "[[0.7 0.8]\n",
      " [0.5 0.6]] [3 2]\n",
      "[[0.3 0.4]\n",
      " [0.1 0.2]] [1 0]\n"
     ]
    }
   ],
   "source": [
    "for ex in ds_batch2:\n",
    "    print(ex[0].numpy(), ex[1].numpy())"
   ]
  },
  {
   "cell_type": "code",
   "execution_count": 35,
   "id": "20234b36",
   "metadata": {},
   "outputs": [],
   "source": [
    "import tensorflow_datasets as tfds"
   ]
  },
  {
   "cell_type": "code",
   "execution_count": 36,
   "id": "88cba76c",
   "metadata": {},
   "outputs": [
    {
     "name": "stdout",
     "output_type": "stream",
     "text": [
      "\u001b[1mDownloading and preparing dataset Unknown size (download: Unknown size, generated: Unknown size, total: Unknown size) to C:\\Users\\ParkHanna\\tensorflow_datasets\\iris\\2.0.0...\u001b[0m\n"
     ]
    },
    {
     "data": {
      "application/vnd.jupyter.widget-view+json": {
       "model_id": "8c4adf829283414c846d5d01645c6208",
       "version_major": 2,
       "version_minor": 0
      },
      "text/plain": [
       "Dl Completed...: 0 url [00:00, ? url/s]"
      ]
     },
     "metadata": {},
     "output_type": "display_data"
    },
    {
     "data": {
      "application/vnd.jupyter.widget-view+json": {
       "model_id": "20f6eaa706f043479496403a8d489d03",
       "version_major": 2,
       "version_minor": 0
      },
      "text/plain": [
       "Dl Size...: 0 MiB [00:00, ? MiB/s]"
      ]
     },
     "metadata": {},
     "output_type": "display_data"
    },
    {
     "data": {
      "application/vnd.jupyter.widget-view+json": {
       "model_id": "",
       "version_major": 2,
       "version_minor": 0
      },
      "text/plain": [
       "Generating splits...:   0%|          | 0/1 [00:00<?, ? splits/s]"
      ]
     },
     "metadata": {},
     "output_type": "display_data"
    },
    {
     "data": {
      "application/vnd.jupyter.widget-view+json": {
       "model_id": "",
       "version_major": 2,
       "version_minor": 0
      },
      "text/plain": [
       "Generating train examples...: 0 examples [00:00, ? examples/s]"
      ]
     },
     "metadata": {},
     "output_type": "display_data"
    },
    {
     "data": {
      "application/vnd.jupyter.widget-view+json": {
       "model_id": "",
       "version_major": 2,
       "version_minor": 0
      },
      "text/plain": [
       "Shuffling iris-train.tfrecord...:   0%|          | 0/150 [00:00<?, ? examples/s]"
      ]
     },
     "metadata": {},
     "output_type": "display_data"
    },
    {
     "name": "stdout",
     "output_type": "stream",
     "text": [
      "\u001b[1mDataset iris downloaded and prepared to C:\\Users\\ParkHanna\\tensorflow_datasets\\iris\\2.0.0. Subsequent calls will reuse this data.\u001b[0m\n"
     ]
    }
   ],
   "source": [
    "iris = tfds.load('iris')"
   ]
  },
  {
   "cell_type": "code",
   "execution_count": 37,
   "id": "95f60548",
   "metadata": {},
   "outputs": [
    {
     "data": {
      "text/plain": [
       "dict"
      ]
     },
     "execution_count": 37,
     "metadata": {},
     "output_type": "execute_result"
    }
   ],
   "source": [
    "type(iris)"
   ]
  },
  {
   "cell_type": "code",
   "execution_count": 38,
   "id": "af4f58d8",
   "metadata": {},
   "outputs": [
    {
     "data": {
      "text/plain": [
       "{Split('train'): <PrefetchDataset shapes: {features: (4,), label: ()}, types: {features: tf.float32, label: tf.int64}>}"
      ]
     },
     "execution_count": 38,
     "metadata": {},
     "output_type": "execute_result"
    }
   ],
   "source": [
    "iris"
   ]
  },
  {
   "cell_type": "code",
   "execution_count": 39,
   "id": "92ff7f55",
   "metadata": {},
   "outputs": [],
   "source": [
    "ds = iris['train']"
   ]
  },
  {
   "cell_type": "code",
   "execution_count": 40,
   "id": "fa4df48a",
   "metadata": {},
   "outputs": [],
   "source": [
    "ds = ds.shuffle(buffer_size=150, reshuffle_each_iteration=False)"
   ]
  },
  {
   "cell_type": "code",
   "execution_count": 42,
   "id": "ddf6c177",
   "metadata": {},
   "outputs": [],
   "source": [
    "ds_train = ds.take(100)"
   ]
  },
  {
   "cell_type": "code",
   "execution_count": 43,
   "id": "9e6f0037",
   "metadata": {},
   "outputs": [],
   "source": [
    "ds_test = ds.skip(100)"
   ]
  },
  {
   "cell_type": "code",
   "execution_count": 44,
   "id": "890ac10d",
   "metadata": {},
   "outputs": [],
   "source": [
    "ds_train = ds_train.map(lambda x: (x['features'], x['label']))\n",
    "ds_test = ds_test.map(lambda x: (x['features'], x['label']))"
   ]
  },
  {
   "cell_type": "code",
   "execution_count": 46,
   "id": "3963f15f",
   "metadata": {},
   "outputs": [],
   "source": [
    "model = tf.keras.Sequential([\n",
    "    tf.keras.layers.Dense(16, input_shape=(4,), activation='sigmoid'),\n",
    "    tf.keras.layers.Dense(3, activation='softmax')\n",
    "])"
   ]
  },
  {
   "cell_type": "code",
   "execution_count": 48,
   "id": "463372bb",
   "metadata": {},
   "outputs": [],
   "source": [
    "model.compile(loss='sparse_categorical_crossentropy',\n",
    "             optimizer = 'adam',\n",
    "             metrics=['accuracy'])"
   ]
  },
  {
   "cell_type": "code",
   "execution_count": 49,
   "id": "3de42819",
   "metadata": {},
   "outputs": [],
   "source": [
    "TRAIN_SIZE = 100\n",
    "NUM_EPOCH = 50\n",
    "BATCH_SIZE = 2\n",
    "STEPS_PRE_EPOCH = TRAIN_SIZE / BATCH_SIZE"
   ]
  },
  {
   "cell_type": "code",
   "execution_count": 50,
   "id": "660ec301",
   "metadata": {},
   "outputs": [],
   "source": [
    "ds_train = ds_train.shuffle(buffer_size = TRAIN_SIZE).batch(BATCH_SIZE)"
   ]
  },
  {
   "cell_type": "code",
   "execution_count": 52,
   "id": "39bf3b4e",
   "metadata": {},
   "outputs": [
    {
     "name": "stdout",
     "output_type": "stream",
     "text": [
      "Epoch 1/50\n",
      "50/50 [==============================] - 1s 2ms/step - loss: 1.0142 - accuracy: 0.3600\n",
      "Epoch 2/50\n",
      "50/50 [==============================] - 0s 3ms/step - loss: 0.9476 - accuracy: 0.5300\n",
      "Epoch 3/50\n",
      "50/50 [==============================] - 0s 2ms/step - loss: 0.8999 - accuracy: 0.8400\n",
      "Epoch 4/50\n",
      "50/50 [==============================] - 0s 2ms/step - loss: 0.8551 - accuracy: 0.8600\n",
      "Epoch 5/50\n",
      "50/50 [==============================] - 0s 3ms/step - loss: 0.8158 - accuracy: 0.9100\n",
      "Epoch 6/50\n",
      "50/50 [==============================] - 0s 4ms/step - loss: 0.7815 - accuracy: 0.8900\n",
      "Epoch 7/50\n",
      "50/50 [==============================] - 0s 3ms/step - loss: 0.7473 - accuracy: 0.9100\n",
      "Epoch 8/50\n",
      "50/50 [==============================] - 0s 2ms/step - loss: 0.7185 - accuracy: 0.9300\n",
      "Epoch 9/50\n",
      "50/50 [==============================] - 0s 3ms/step - loss: 0.6913 - accuracy: 0.9300\n",
      "Epoch 10/50\n",
      "50/50 [==============================] - 0s 2ms/step - loss: 0.6666 - accuracy: 0.9500\n",
      "Epoch 11/50\n",
      "50/50 [==============================] - 0s 2ms/step - loss: 0.6468 - accuracy: 0.9300\n",
      "Epoch 12/50\n",
      "50/50 [==============================] - 0s 2ms/step - loss: 0.6243 - accuracy: 0.9400\n",
      "Epoch 13/50\n",
      "50/50 [==============================] - 0s 3ms/step - loss: 0.6059 - accuracy: 0.9600\n",
      "Epoch 14/50\n",
      "50/50 [==============================] - 0s 2ms/step - loss: 0.5899 - accuracy: 0.8900\n",
      "Epoch 15/50\n",
      "50/50 [==============================] - 0s 2ms/step - loss: 0.5711 - accuracy: 0.9500\n",
      "Epoch 16/50\n",
      "50/50 [==============================] - 0s 2ms/step - loss: 0.5562 - accuracy: 0.9400\n",
      "Epoch 17/50\n",
      "50/50 [==============================] - 0s 2ms/step - loss: 0.5435 - accuracy: 0.9300\n",
      "Epoch 18/50\n",
      "50/50 [==============================] - 0s 3ms/step - loss: 0.5317 - accuracy: 0.9500\n",
      "Epoch 19/50\n",
      "50/50 [==============================] - 0s 3ms/step - loss: 0.5196 - accuracy: 0.9200\n",
      "Epoch 20/50\n",
      "50/50 [==============================] - 0s 2ms/step - loss: 0.5101 - accuracy: 0.9400\n",
      "Epoch 21/50\n",
      "50/50 [==============================] - 0s 2ms/step - loss: 0.4975 - accuracy: 0.9600\n",
      "Epoch 22/50\n",
      "50/50 [==============================] - 0s 2ms/step - loss: 0.4905 - accuracy: 0.9400\n",
      "Epoch 23/50\n",
      "50/50 [==============================] - 0s 4ms/step - loss: 0.4798 - accuracy: 0.9300: 0s - loss: 0.4837 - accuracy: 0.\n",
      "Epoch 24/50\n",
      "50/50 [==============================] - 0s 2ms/step - loss: 0.4714 - accuracy: 0.9600\n",
      "Epoch 25/50\n",
      "50/50 [==============================] - 0s 3ms/step - loss: 0.4629 - accuracy: 0.9600\n",
      "Epoch 26/50\n",
      "50/50 [==============================] - 0s 3ms/step - loss: 0.4603 - accuracy: 0.9600\n",
      "Epoch 27/50\n",
      "50/50 [==============================] - 0s 3ms/step - loss: 0.4547 - accuracy: 0.9300\n",
      "Epoch 28/50\n",
      "50/50 [==============================] - 0s 2ms/step - loss: 0.4427 - accuracy: 0.9500\n",
      "Epoch 29/50\n",
      "50/50 [==============================] - 0s 3ms/step - loss: 0.4365 - accuracy: 0.9400\n",
      "Epoch 30/50\n",
      "50/50 [==============================] - 0s 2ms/step - loss: 0.4278 - accuracy: 0.9500\n",
      "Epoch 31/50\n",
      "50/50 [==============================] - 0s 2ms/step - loss: 0.4207 - accuracy: 0.9400\n",
      "Epoch 32/50\n",
      "50/50 [==============================] - 0s 2ms/step - loss: 0.4193 - accuracy: 0.8700\n",
      "Epoch 33/50\n",
      "50/50 [==============================] - 0s 2ms/step - loss: 0.4122 - accuracy: 0.9300\n",
      "Epoch 34/50\n",
      "50/50 [==============================] - 0s 2ms/step - loss: 0.4025 - accuracy: 0.9600\n",
      "Epoch 35/50\n",
      "50/50 [==============================] - 0s 4ms/step - loss: 0.3963 - accuracy: 0.9500\n",
      "Epoch 36/50\n",
      "50/50 [==============================] - 0s 3ms/step - loss: 0.3899 - accuracy: 0.9500\n",
      "Epoch 37/50\n",
      "50/50 [==============================] - 0s 2ms/step - loss: 0.3832 - accuracy: 0.9400\n",
      "Epoch 38/50\n",
      "50/50 [==============================] - 0s 2ms/step - loss: 0.3780 - accuracy: 0.9500\n",
      "Epoch 39/50\n",
      "50/50 [==============================] - 0s 2ms/step - loss: 0.3704 - accuracy: 0.9600\n",
      "Epoch 40/50\n",
      "50/50 [==============================] - 0s 2ms/step - loss: 0.3674 - accuracy: 0.9500\n",
      "Epoch 41/50\n",
      "50/50 [==============================] - 0s 2ms/step - loss: 0.3615 - accuracy: 0.9500\n",
      "Epoch 42/50\n",
      "50/50 [==============================] - 0s 2ms/step - loss: 0.3542 - accuracy: 0.9500\n",
      "Epoch 43/50\n",
      "50/50 [==============================] - 0s 3ms/step - loss: 0.3488 - accuracy: 0.9600\n",
      "Epoch 44/50\n",
      "50/50 [==============================] - 0s 2ms/step - loss: 0.3437 - accuracy: 0.9600\n",
      "Epoch 45/50\n",
      "50/50 [==============================] - 0s 2ms/step - loss: 0.3376 - accuracy: 0.9500\n",
      "Epoch 46/50\n",
      "50/50 [==============================] - 0s 3ms/step - loss: 0.3335 - accuracy: 0.9600\n",
      "Epoch 47/50\n",
      "50/50 [==============================] - 0s 3ms/step - loss: 0.3278 - accuracy: 0.9700\n",
      "Epoch 48/50\n",
      "50/50 [==============================] - 0s 3ms/step - loss: 0.3243 - accuracy: 0.9400: 0s - loss: 0.2473 - accuracy: 1.\n",
      "Epoch 49/50\n",
      "50/50 [==============================] - 0s 3ms/step - loss: 0.3178 - accuracy: 0.9600\n",
      "Epoch 50/50\n",
      "50/50 [==============================] - 0s 2ms/step - loss: 0.3116 - accuracy: 0.9700\n"
     ]
    },
    {
     "data": {
      "text/plain": [
       "<keras.callbacks.History at 0x16b296f1370>"
      ]
     },
     "execution_count": 52,
     "metadata": {},
     "output_type": "execute_result"
    }
   ],
   "source": [
    "model.fit(ds_train, epochs=NUM_EPOCH, steps_per_epoch=STEPS_PRE_EPOCH)"
   ]
  },
  {
   "cell_type": "code",
   "execution_count": 53,
   "id": "1b37cc53",
   "metadata": {},
   "outputs": [
    {
     "name": "stdout",
     "output_type": "stream",
     "text": [
      "1/1 [==============================] - 1s 659ms/step - loss: 0.3147 - accuracy: 0.9800\n"
     ]
    },
    {
     "data": {
      "text/plain": [
       "[0.31466591358184814, 0.9800000190734863]"
      ]
     },
     "execution_count": 53,
     "metadata": {},
     "output_type": "execute_result"
    }
   ],
   "source": [
    "model.evaluate(ds_test.batch(50))"
   ]
  },
  {
   "cell_type": "code",
   "execution_count": null,
   "id": "8f12e79b",
   "metadata": {},
   "outputs": [],
   "source": []
  }
 ],
 "metadata": {
  "kernelspec": {
   "display_name": "Python 3",
   "language": "python",
   "name": "python3"
  },
  "language_info": {
   "codemirror_mode": {
    "name": "ipython",
    "version": 3
   },
   "file_extension": ".py",
   "mimetype": "text/x-python",
   "name": "python",
   "nbconvert_exporter": "python",
   "pygments_lexer": "ipython3",
   "version": "3.8.8"
  }
 },
 "nbformat": 4,
 "nbformat_minor": 5
}
