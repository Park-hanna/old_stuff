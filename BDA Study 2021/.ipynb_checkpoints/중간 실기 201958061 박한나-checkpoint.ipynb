{
 "cells": [
  {
   "cell_type": "markdown",
   "id": "dc338653",
   "metadata": {},
   "source": [
    "# 중간 고사 실기 201958061 박한나"
   ]
  },
  {
   "cell_type": "code",
   "execution_count": 82,
   "id": "05056654",
   "metadata": {},
   "outputs": [],
   "source": [
    "import numpy as np\n",
    "import pandas as pd\n",
    "import matplotlib.pyplot as plt\n",
    "import math\n",
    "import random"
   ]
  },
  {
   "cell_type": "markdown",
   "id": "2962321d",
   "metadata": {},
   "source": [
    "# [1]   \n",
    "np.linspace(start, stop, num) 함수는 [start, stop] 구간을 같은 간격으로 나누는 \n",
    "num개의 값을 넘파이 배열로 반환하는 함수이다. 같은 성격의 리스트를 반환하는 \n",
    "equispaced() 함수를 정의하고 테스트하시오. 그리고, 이 두 함수에 대하여 start=0, \n",
    "stop=1, num=1000일 때 반복 실행시간을 구하시오."
   ]
  },
  {
   "cell_type": "code",
   "execution_count": null,
   "id": "966d9b22",
   "metadata": {},
   "outputs": [],
   "source": []
  },
  {
   "cell_type": "markdown",
   "id": "cb0f4fbd",
   "metadata": {},
   "source": [
    "# [3]  \n",
    "0과 1사이의 난수(seed=0), 길이가 각각 50인 배열 x, y 만든 후  \n",
    "산점도 작성, 축의 레이블과 y = x 직선 붉은색 추가, 범례 표시"
   ]
  },
  {
   "cell_type": "code",
   "execution_count": 114,
   "id": "22637b50",
   "metadata": {},
   "outputs": [
    {
     "name": "stderr",
     "output_type": "stream",
     "text": [
      "No handles with labels found to put in legend.\n"
     ]
    },
    {
     "data": {
      "image/png": "[encoded data removed]",
      "text/plain": [
       "<Figure size 432x288 with 1 Axes>"
      ]
     },
     "metadata": {
      "needs_background": "light"
     },
     "output_type": "display_data"
    }
   ],
   "source": [
    "np.random.seed(0)\n",
    "x=np.random.random(50)\n",
    "y=np.random.random(50)\n",
    "plt.scatter(x,y)\n",
    "plt.legend()\n",
    "plt.show()"
   ]
  },
  {
   "cell_type": "markdown",
   "id": "a8f918bb",
   "metadata": {},
   "source": [
    "# [4]  \n"
   ]
  },
  {
   "cell_type": "markdown",
   "id": "12539c34",
   "metadata": {},
   "source": [
    "a) 0과 1사이의 난수(씨드=1)를 생성하여 shape이 (10, 3)인 넘파이 배열 a 만들기  "
   ]
  },
  {
   "cell_type": "code",
   "execution_count": 80,
   "id": "1b10f2ba",
   "metadata": {},
   "outputs": [
    {
     "data": {
      "text/plain": [
       "array([[ 1.62434536, -0.61175641, -0.52817175],\n",
       "       [-1.07296862,  0.86540763, -2.3015387 ],\n",
       "       [ 1.74481176, -0.7612069 ,  0.3190391 ],\n",
       "       [-0.24937038,  1.46210794, -2.06014071],\n",
       "       [-0.3224172 , -0.38405435,  1.13376944],\n",
       "       [-1.09989127, -0.17242821, -0.87785842],\n",
       "       [ 0.04221375,  0.58281521, -1.10061918],\n",
       "       [ 1.14472371,  0.90159072,  0.50249434],\n",
       "       [ 0.90085595, -0.68372786, -0.12289023],\n",
       "       [-0.93576943, -0.26788808,  0.53035547]])"
      ]
     },
     "execution_count": 80,
     "metadata": {},
     "output_type": "execute_result"
    }
   ],
   "source": [
    "np.random.seed(1)\n",
    "a = np.random.normal(0,1,(10,3))\n",
    "a"
   ]
  },
  {
   "cell_type": "markdown",
   "id": "7d5464d8",
   "metadata": {},
   "source": [
    "b) 배열 a의 각 행의 합을 구하고, 코드로 행의 합이 가장 큰 행 번호를 구하기  \n"
   ]
  },
  {
   "cell_type": "code",
   "execution_count": 55,
   "id": "ee52abe0",
   "metadata": {},
   "outputs": [
    {
     "data": {
      "text/plain": [
       "2.548808769334278"
      ]
     },
     "execution_count": 55,
     "metadata": {},
     "output_type": "execute_result"
    }
   ],
   "source": [
    "np.sum(a,axis =1).max()"
   ]
  },
  {
   "cell_type": "markdown",
   "id": "ccfce019",
   "metadata": {},
   "source": [
    "c) {1,2}에서 정수 난수(씨드=2)를 생성하여 shape이 (10, )인 넘파이 배열 b 만들기  \n"
   ]
  },
  {
   "cell_type": "code",
   "execution_count": 72,
   "id": "74c74655",
   "metadata": {},
   "outputs": [
    {
     "data": {
      "text/plain": [
       "array([1, 2, 2, 1, 1, 2, 1, 2, 1, 2])"
      ]
     },
     "execution_count": 72,
     "metadata": {},
     "output_type": "execute_result"
    }
   ],
   "source": [
    "np.random.seed(2)\n",
    "b = np.random.randint(1,3,size=(10,))\n",
    "b"
   ]
  },
  {
   "cell_type": "markdown",
   "id": "accb427c",
   "metadata": {},
   "source": [
    "d) 배열 b에 배열 a 붙여 넘파이 배열 c 만들기  "
   ]
  },
  {
   "cell_type": "code",
   "execution_count": 79,
   "id": "f097af30",
   "metadata": {},
   "outputs": [
    {
     "ename": "ValueError",
     "evalue": "all the input arrays must have same number of dimensions, but the array at index 0 has 1 dimension(s) and the array at index 1 has 2 dimension(s)",
     "output_type": "error",
     "traceback": [
      "\u001b[1;31m---------------------------------------------------------------------------\u001b[0m",
      "\u001b[1;31mValueError\u001b[0m                                Traceback (most recent call last)",
      "\u001b[1;32m<ipython-input-79-9bf97245b6f9>\u001b[0m in \u001b[0;36m<module>\u001b[1;34m\u001b[0m\n\u001b[1;32m----> 1\u001b[1;33m \u001b[0mc\u001b[0m \u001b[1;33m=\u001b[0m \u001b[0mnp\u001b[0m\u001b[1;33m.\u001b[0m\u001b[0mconcatenate\u001b[0m\u001b[1;33m(\u001b[0m\u001b[1;33m[\u001b[0m\u001b[0mb\u001b[0m\u001b[1;33m,\u001b[0m\u001b[0ma\u001b[0m\u001b[1;33m]\u001b[0m\u001b[1;33m,\u001b[0m\u001b[0maxis\u001b[0m\u001b[1;33m=\u001b[0m\u001b[1;36m0\u001b[0m\u001b[1;33m)\u001b[0m\u001b[1;33m\u001b[0m\u001b[1;33m\u001b[0m\u001b[0m\n\u001b[0m",
      "\u001b[1;32m<__array_function__ internals>\u001b[0m in \u001b[0;36mconcatenate\u001b[1;34m(*args, **kwargs)\u001b[0m\n",
      "\u001b[1;31mValueError\u001b[0m: all the input arrays must have same number of dimensions, but the array at index 0 has 1 dimension(s) and the array at index 1 has 2 dimension(s)"
     ]
    }
   ],
   "source": [
    "c = np.concatenate([b,a],axis=0)"
   ]
  },
  {
   "cell_type": "markdown",
   "id": "8ffe6a02",
   "metadata": {},
   "source": [
    "e) 배열 c에서 0번째 열의 값이 1인 행만 뽑아 만든 배열의 열 평균 구하기"
   ]
  },
  {
   "cell_type": "code",
   "execution_count": null,
   "id": "8f054e8a",
   "metadata": {},
   "outputs": [],
   "source": []
  },
  {
   "cell_type": "markdown",
   "id": "9436cdca",
   "metadata": {},
   "source": [
    "# [5] 순서대로 다음 작업 수행"
   ]
  },
  {
   "cell_type": "markdown",
   "id": "35646f91",
   "metadata": {},
   "source": [
    "a) Q5_a.csv 파일을 읽어 데이터프레임 생성하기(힌트:인덱스 칼럼 번호 지정!)"
   ]
  },
  {
   "cell_type": "code",
   "execution_count": 163,
   "id": "48c5bd7a",
   "metadata": {},
   "outputs": [
    {
     "data": {
      "text/html": [
       "<div>\n",
       "<style scoped>\n",
       "    .dataframe tbody tr th:only-of-type {\n",
       "        vertical-align: middle;\n",
       "    }\n",
       "\n",
       "    .dataframe tbody tr th {\n",
       "        vertical-align: top;\n",
       "    }\n",
       "\n",
       "    .dataframe thead th {\n",
       "        text-align: right;\n",
       "    }\n",
       "</style>\n",
       "<table border=\"1\" class=\"dataframe\">\n",
       "  <thead>\n",
       "    <tr style=\"text-align: right;\">\n",
       "      <th></th>\n",
       "      <th>season</th>\n",
       "      <th>v1</th>\n",
       "      <th>v2</th>\n",
       "      <th>v3</th>\n",
       "      <th>v4</th>\n",
       "      <th>v5</th>\n",
       "    </tr>\n",
       "  </thead>\n",
       "  <tbody>\n",
       "    <tr>\n",
       "      <th>0</th>\n",
       "      <td>winter</td>\n",
       "      <td>0.0</td>\n",
       "      <td>0.0</td>\n",
       "      <td>0.0</td>\n",
       "      <td>0.0</td>\n",
       "      <td>34.2</td>\n",
       "    </tr>\n",
       "    <tr>\n",
       "      <th>1</th>\n",
       "      <td>spring</td>\n",
       "      <td>1.4</td>\n",
       "      <td>7.6</td>\n",
       "      <td>4.8</td>\n",
       "      <td>1.9</td>\n",
       "      <td>6.7</td>\n",
       "    </tr>\n",
       "    <tr>\n",
       "      <th>2</th>\n",
       "      <td>autumn</td>\n",
       "      <td>3.3</td>\n",
       "      <td>53.6</td>\n",
       "      <td>1.9</td>\n",
       "      <td>0.0</td>\n",
       "      <td>0.0</td>\n",
       "    </tr>\n",
       "    <tr>\n",
       "      <th>3</th>\n",
       "      <td>spring</td>\n",
       "      <td>3.1</td>\n",
       "      <td>41.0</td>\n",
       "      <td>18.9</td>\n",
       "      <td>0.0</td>\n",
       "      <td>1.4</td>\n",
       "    </tr>\n",
       "    <tr>\n",
       "      <th>4</th>\n",
       "      <td>autumn</td>\n",
       "      <td>9.2</td>\n",
       "      <td>2.9</td>\n",
       "      <td>7.5</td>\n",
       "      <td>0.0</td>\n",
       "      <td>7.5</td>\n",
       "    </tr>\n",
       "    <tr>\n",
       "      <th>5</th>\n",
       "      <td>winter</td>\n",
       "      <td>15.1</td>\n",
       "      <td>14.6</td>\n",
       "      <td>1.4</td>\n",
       "      <td>0.0</td>\n",
       "      <td>22.5</td>\n",
       "    </tr>\n",
       "    <tr>\n",
       "      <th>6</th>\n",
       "      <td>summer</td>\n",
       "      <td>2.4</td>\n",
       "      <td>1.2</td>\n",
       "      <td>3.2</td>\n",
       "      <td>3.9</td>\n",
       "      <td>5.8</td>\n",
       "    </tr>\n",
       "    <tr>\n",
       "      <th>7</th>\n",
       "      <td>autumn</td>\n",
       "      <td>18.2</td>\n",
       "      <td>1.6</td>\n",
       "      <td>0.0</td>\n",
       "      <td>0.0</td>\n",
       "      <td>5.5</td>\n",
       "    </tr>\n",
       "    <tr>\n",
       "      <th>8</th>\n",
       "      <td>winter</td>\n",
       "      <td>25.4</td>\n",
       "      <td>5.4</td>\n",
       "      <td>2.5</td>\n",
       "      <td>0.0</td>\n",
       "      <td>0.0</td>\n",
       "    </tr>\n",
       "    <tr>\n",
       "      <th>9</th>\n",
       "      <td>winter</td>\n",
       "      <td>17.0</td>\n",
       "      <td>0.0</td>\n",
       "      <td>0.0</td>\n",
       "      <td>2.9</td>\n",
       "      <td>0.0</td>\n",
       "    </tr>\n",
       "  </tbody>\n",
       "</table>\n",
       "</div>"
      ],
      "text/plain": [
       "   season    v1    v2    v3   v4    v5\n",
       "0  winter   0.0   0.0   0.0  0.0  34.2\n",
       "1  spring   1.4   7.6   4.8  1.9   6.7\n",
       "2  autumn   3.3  53.6   1.9  0.0   0.0\n",
       "3  spring   3.1  41.0  18.9  0.0   1.4\n",
       "4  autumn   9.2   2.9   7.5  0.0   7.5\n",
       "5  winter  15.1  14.6   1.4  0.0  22.5\n",
       "6  summer   2.4   1.2   3.2  3.9   5.8\n",
       "7  autumn  18.2   1.6   0.0  0.0   5.5\n",
       "8  winter  25.4   5.4   2.5  0.0   0.0\n",
       "9  winter  17.0   0.0   0.0  2.9   0.0"
      ]
     },
     "execution_count": 163,
     "metadata": {},
     "output_type": "execute_result"
    }
   ],
   "source": [
    "df = pd.read_csv('Q5_a.csv')\n",
    "df=df.loc[:,'season':'v5']\n",
    "df"
   ]
  },
  {
   "cell_type": "markdown",
   "id": "64d76512",
   "metadata": {},
   "source": [
    "b) 데이터프레임에서 숫자 데이터만 분리하여 넘파이 배열 만들기"
   ]
  },
  {
   "cell_type": "code",
   "execution_count": 165,
   "id": "8db1d26e",
   "metadata": {},
   "outputs": [
    {
     "data": {
      "text/html": [
       "<div>\n",
       "<style scoped>\n",
       "    .dataframe tbody tr th:only-of-type {\n",
       "        vertical-align: middle;\n",
       "    }\n",
       "\n",
       "    .dataframe tbody tr th {\n",
       "        vertical-align: top;\n",
       "    }\n",
       "\n",
       "    .dataframe thead th {\n",
       "        text-align: right;\n",
       "    }\n",
       "</style>\n",
       "<table border=\"1\" class=\"dataframe\">\n",
       "  <thead>\n",
       "    <tr style=\"text-align: right;\">\n",
       "      <th></th>\n",
       "      <th>v1</th>\n",
       "      <th>v2</th>\n",
       "      <th>v3</th>\n",
       "      <th>v4</th>\n",
       "      <th>v5</th>\n",
       "    </tr>\n",
       "  </thead>\n",
       "  <tbody>\n",
       "    <tr>\n",
       "      <th>0</th>\n",
       "      <td>0.0</td>\n",
       "      <td>0.0</td>\n",
       "      <td>0.0</td>\n",
       "      <td>0.0</td>\n",
       "      <td>34.2</td>\n",
       "    </tr>\n",
       "    <tr>\n",
       "      <th>1</th>\n",
       "      <td>1.4</td>\n",
       "      <td>7.6</td>\n",
       "      <td>4.8</td>\n",
       "      <td>1.9</td>\n",
       "      <td>6.7</td>\n",
       "    </tr>\n",
       "    <tr>\n",
       "      <th>2</th>\n",
       "      <td>3.3</td>\n",
       "      <td>53.6</td>\n",
       "      <td>1.9</td>\n",
       "      <td>0.0</td>\n",
       "      <td>0.0</td>\n",
       "    </tr>\n",
       "    <tr>\n",
       "      <th>3</th>\n",
       "      <td>3.1</td>\n",
       "      <td>41.0</td>\n",
       "      <td>18.9</td>\n",
       "      <td>0.0</td>\n",
       "      <td>1.4</td>\n",
       "    </tr>\n",
       "    <tr>\n",
       "      <th>4</th>\n",
       "      <td>9.2</td>\n",
       "      <td>2.9</td>\n",
       "      <td>7.5</td>\n",
       "      <td>0.0</td>\n",
       "      <td>7.5</td>\n",
       "    </tr>\n",
       "    <tr>\n",
       "      <th>5</th>\n",
       "      <td>15.1</td>\n",
       "      <td>14.6</td>\n",
       "      <td>1.4</td>\n",
       "      <td>0.0</td>\n",
       "      <td>22.5</td>\n",
       "    </tr>\n",
       "    <tr>\n",
       "      <th>6</th>\n",
       "      <td>2.4</td>\n",
       "      <td>1.2</td>\n",
       "      <td>3.2</td>\n",
       "      <td>3.9</td>\n",
       "      <td>5.8</td>\n",
       "    </tr>\n",
       "    <tr>\n",
       "      <th>7</th>\n",
       "      <td>18.2</td>\n",
       "      <td>1.6</td>\n",
       "      <td>0.0</td>\n",
       "      <td>0.0</td>\n",
       "      <td>5.5</td>\n",
       "    </tr>\n",
       "    <tr>\n",
       "      <th>8</th>\n",
       "      <td>25.4</td>\n",
       "      <td>5.4</td>\n",
       "      <td>2.5</td>\n",
       "      <td>0.0</td>\n",
       "      <td>0.0</td>\n",
       "    </tr>\n",
       "    <tr>\n",
       "      <th>9</th>\n",
       "      <td>17.0</td>\n",
       "      <td>0.0</td>\n",
       "      <td>0.0</td>\n",
       "      <td>2.9</td>\n",
       "      <td>0.0</td>\n",
       "    </tr>\n",
       "  </tbody>\n",
       "</table>\n",
       "</div>"
      ],
      "text/plain": [
       "     v1    v2    v3   v4    v5\n",
       "0   0.0   0.0   0.0  0.0  34.2\n",
       "1   1.4   7.6   4.8  1.9   6.7\n",
       "2   3.3  53.6   1.9  0.0   0.0\n",
       "3   3.1  41.0  18.9  0.0   1.4\n",
       "4   9.2   2.9   7.5  0.0   7.5\n",
       "5  15.1  14.6   1.4  0.0  22.5\n",
       "6   2.4   1.2   3.2  3.9   5.8\n",
       "7  18.2   1.6   0.0  0.0   5.5\n",
       "8  25.4   5.4   2.5  0.0   0.0\n",
       "9  17.0   0.0   0.0  2.9   0.0"
      ]
     },
     "execution_count": 165,
     "metadata": {},
     "output_type": "execute_result"
    }
   ],
   "source": [
    "array = df.loc[:,'v1':'v5']\n",
    "array"
   ]
  },
  {
   "cell_type": "markdown",
   "id": "590caabc",
   "metadata": {},
   "source": [
    "c) season별 v1의 평균을 막대 그래프(bar chart)로 그리기"
   ]
  },
  {
   "cell_type": "code",
   "execution_count": 174,
   "id": "9bdb5f94",
   "metadata": {},
   "outputs": [
    {
     "data": {
      "text/plain": [
       "array([4, 3, 2, 1], dtype=int64)"
      ]
     },
     "execution_count": 174,
     "metadata": {},
     "output_type": "execute_result"
    }
   ],
   "source": [
    "c = df.groupby('season')['v1'].mean()\n",
    "counts = df.season.value_counts()\n",
    "counts.index\n",
    "counts.values"
   ]
  },
  {
   "cell_type": "code",
   "execution_count": 180,
   "id": "9899c173",
   "metadata": {},
   "outputs": [
    {
     "data": {
      "image/png": "[encoded data removed]",
      "text/plain": [
       "<Figure size 432x288 with 1 Axes>"
      ]
     },
     "metadata": {
      "needs_background": "light"
     },
     "output_type": "display_data"
    }
   ],
   "source": [
    "plt.bar()\n",
    "plt.xlabel('season')\n",
    "plt.ylabel('Average of v1')\n",
    "plt.show()"
   ]
  },
  {
   "cell_type": "markdown",
   "id": "c336b08b",
   "metadata": {},
   "source": [
    "d) 왼쪽과 같은 데이터프레임 만들어 a)의 데이터프레임과 조인하기"
   ]
  },
  {
   "cell_type": "code",
   "execution_count": 145,
   "id": "635adf02",
   "metadata": {},
   "outputs": [
    {
     "ename": "SyntaxError",
     "evalue": "invalid syntax (<ipython-input-145-983596333be0>, line 2)",
     "output_type": "error",
     "traceback": [
      "\u001b[1;36m  File \u001b[1;32m\"<ipython-input-145-983596333be0>\"\u001b[1;36m, line \u001b[1;32m2\u001b[0m\n\u001b[1;33m    dfd1.\u001b[0m\n\u001b[1;37m         ^\u001b[0m\n\u001b[1;31mSyntaxError\u001b[0m\u001b[1;31m:\u001b[0m invalid syntax\n"
     ]
    }
   ],
   "source": [
    "dfd1['s_code'] = pd.DataFrame(df.groupby('season')['season'].count())\n",
    "dfd1."
   ]
  },
  {
   "cell_type": "code",
   "execution_count": 144,
   "id": "5655b67f",
   "metadata": {},
   "outputs": [
    {
     "ename": "TypeError",
     "evalue": "concat() got an unexpected keyword argument 'on'",
     "output_type": "error",
     "traceback": [
      "\u001b[1;31m---------------------------------------------------------------------------\u001b[0m",
      "\u001b[1;31mTypeError\u001b[0m                                 Traceback (most recent call last)",
      "\u001b[1;32m<ipython-input-144-2b3d25e3364d>\u001b[0m in \u001b[0;36m<module>\u001b[1;34m\u001b[0m\n\u001b[1;32m----> 1\u001b[1;33m \u001b[0mdfd2\u001b[0m \u001b[1;33m=\u001b[0m \u001b[0mpd\u001b[0m\u001b[1;33m.\u001b[0m\u001b[0mconcat\u001b[0m\u001b[1;33m(\u001b[0m\u001b[0mdf\u001b[0m\u001b[1;33m,\u001b[0m\u001b[0mdfd1\u001b[0m\u001b[1;33m,\u001b[0m \u001b[0mon\u001b[0m\u001b[1;33m=\u001b[0m\u001b[1;34m'season'\u001b[0m\u001b[1;33m)\u001b[0m\u001b[1;33m\u001b[0m\u001b[1;33m\u001b[0m\u001b[0m\n\u001b[0m\u001b[0;32m      2\u001b[0m \u001b[0mdfd2\u001b[0m\u001b[1;33m\u001b[0m\u001b[1;33m\u001b[0m\u001b[0m\n",
      "\u001b[1;31mTypeError\u001b[0m: concat() got an unexpected keyword argument 'on'"
     ]
    }
   ],
   "source": [
    "dfd2 = pd.concat(df,dfd1, on='season')\n",
    "dfd2"
   ]
  },
  {
   "cell_type": "markdown",
   "id": "8bf20071",
   "metadata": {},
   "source": [
    "e) Q5_e.csv 파일을 읽어 데이터프레임을 만든 후, 결측치를 칼럼 평균으로 채우기\n",
    " 단, 파일에서 결측치는 'XXXXXXX'로 표시되어 있음"
   ]
  },
  {
   "cell_type": "code",
   "execution_count": 150,
   "id": "4e940f6a",
   "metadata": {},
   "outputs": [
    {
     "data": {
      "text/plain": [
       "Series([], dtype: float64)"
      ]
     },
     "execution_count": 150,
     "metadata": {},
     "output_type": "execute_result"
    }
   ],
   "source": [
    "edf = pd.read_csv('Q5_e.csv')\n",
    "edf.mean() "
   ]
  },
  {
   "cell_type": "code",
   "execution_count": null,
   "id": "5ab49bb7",
   "metadata": {},
   "outputs": [],
   "source": []
  },
  {
   "cell_type": "code",
   "execution_count": null,
   "id": "da7ba199",
   "metadata": {},
   "outputs": [],
   "source": []
  }
 ],
 "metadata": {
  "kernelspec": {
   "display_name": "Python 3",
   "language": "python",
   "name": "python3"
  },
  "language_info": {
   "codemirror_mode": {
    "name": "ipython",
    "version": 3
   },
   "file_extension": ".py",
   "mimetype": "text/x-python",
   "name": "python",
   "nbconvert_exporter": "python",
   "pygments_lexer": "ipython3",
   "version": "3.8.8"
  }
 },
 "nbformat": 4,
 "nbformat_minor": 5
}
