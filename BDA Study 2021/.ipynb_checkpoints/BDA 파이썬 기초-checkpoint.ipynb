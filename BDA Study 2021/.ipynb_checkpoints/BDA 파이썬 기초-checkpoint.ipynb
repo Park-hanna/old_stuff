{
 "cells": [
  {
   "cell_type": "markdown",
   "id": "f4bc7def",
   "metadata": {},
   "source": [
    "# 파이썬 키워드"
   ]
  },
  {
   "cell_type": "code",
   "execution_count": 3,
   "id": "aea2bcc3",
   "metadata": {},
   "outputs": [],
   "source": [
    "import keyword"
   ]
  },
  {
   "cell_type": "code",
   "execution_count": 5,
   "id": "9b464472",
   "metadata": {},
   "outputs": [
    {
     "data": {
      "text/plain": [
       "35"
      ]
     },
     "execution_count": 5,
     "metadata": {},
     "output_type": "execute_result"
    }
   ],
   "source": [
    "len(keyword.kwlist)"
   ]
  },
  {
   "cell_type": "code",
   "execution_count": 7,
   "id": "14843cc7",
   "metadata": {},
   "outputs": [
    {
     "data": {
      "text/plain": [
       "True"
      ]
     },
     "execution_count": 7,
     "metadata": {},
     "output_type": "execute_result"
    }
   ],
   "source": [
    "keyword.iskeyword('True')"
   ]
  },
  {
   "cell_type": "markdown",
   "id": "b4142e28",
   "metadata": {},
   "source": [
    "# 조건문"
   ]
  },
  {
   "cell_type": "code",
   "execution_count": 12,
   "id": "85ae3a37",
   "metadata": {},
   "outputs": [
    {
     "name": "stdout",
     "output_type": "stream",
     "text": [
      "길이 =  70.0 너비 =  54.5\n"
     ]
    }
   ],
   "source": [
    "size = 'M'\n",
    "\n",
    "if size == 'S':\n",
    "    length, width = 68.0, 52.0\n",
    "elif size == 'M':\n",
    "    length, width = 70.0, 54.5\n",
    "else :\n",
    "    length, width = 72.0, 57.0\n",
    "    \n",
    "print('길이 = ',length, '너비 = ',width)"
   ]
  },
  {
   "cell_type": "code",
   "execution_count": 13,
   "id": "f28d0608",
   "metadata": {},
   "outputs": [
    {
     "name": "stdout",
     "output_type": "stream",
     "text": [
      "Variable   Type      Data/Info\n",
      "------------------------------\n",
      "keyword    module    <module 'keyword' from 'C<...>conda3\\\\lib\\\\keyword.py'>\n",
      "length     float     70.0\n",
      "size       str       M\n",
      "width      float     54.5\n"
     ]
    }
   ],
   "source": [
    "%whos #객체 확인 할 수 있는 매직 명령어"
   ]
  },
  {
   "cell_type": "code",
   "execution_count": 15,
   "id": "724a7d24",
   "metadata": {},
   "outputs": [],
   "source": [
    "%xdel size"
   ]
  },
  {
   "cell_type": "code",
   "execution_count": null,
   "id": "30a45a8f",
   "metadata": {},
   "outputs": [],
   "source": []
  }
 ],
 "metadata": {
  "kernelspec": {
   "display_name": "Python 3",
   "language": "python",
   "name": "python3"
  },
  "language_info": {
   "codemirror_mode": {
    "name": "ipython",
    "version": 3
   },
   "file_extension": ".py",
   "mimetype": "text/x-python",
   "name": "python",
   "nbconvert_exporter": "python",
   "pygments_lexer": "ipython3",
   "version": "3.8.8"
  }
 },
 "nbformat": 4,
 "nbformat_minor": 5
}
