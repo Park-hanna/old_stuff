{
 "cells": [
  {
   "cell_type": "code",
   "execution_count": 1,
   "id": "37e0d27e",
   "metadata": {},
   "outputs": [],
   "source": [
    "import tensorflow as tf"
   ]
  },
  {
   "cell_type": "code",
   "execution_count": 2,
   "id": "148eee68",
   "metadata": {},
   "outputs": [],
   "source": [
    "(X_train, y_train), (X_test, y_test) = tf.keras.datasets.fashion_mnist.load_data()"
   ]
  },
  {
   "cell_type": "code",
   "execution_count": 3,
   "id": "b461ebe3",
   "metadata": {},
   "outputs": [],
   "source": [
    "#각 이미지는 28*28, 회색 스케일(0-255)"
   ]
  },
  {
   "cell_type": "code",
   "execution_count": 5,
   "id": "36197e22",
   "metadata": {},
   "outputs": [],
   "source": [
    "X_train = X_train/255.0  #(0-255) --> (0.0-1.0)"
   ]
  },
  {
   "cell_type": "code",
   "execution_count": 6,
   "id": "a293bb89",
   "metadata": {},
   "outputs": [],
   "source": [
    "X_test = X_test/255.0"
   ]
  },
  {
   "cell_type": "markdown",
   "id": "acf28211",
   "metadata": {},
   "source": [
    "# MLP"
   ]
  },
  {
   "cell_type": "code",
   "execution_count": 9,
   "id": "08c1ad85",
   "metadata": {},
   "outputs": [],
   "source": [
    "model = tf.keras.models.Sequential([\n",
    "    tf.keras.layers.Flatten(input_shape=[28,28]),\n",
    "    tf.keras.layers.Dense(300, activation='relu'),\n",
    "    tf.keras.layers.Dense(100, activation='relu'),\n",
    "    tf.keras.layers.Dense(10, activation='softmax')\n",
    "])"
   ]
  },
  {
   "cell_type": "code",
   "execution_count": 14,
   "id": "408572b4",
   "metadata": {},
   "outputs": [],
   "source": [
    "#모델 컴파일 : 손실 함수, 최적화 알고리즘, 지표\n",
    "model.compile(loss='sparse_categorical_crossentropy',\n",
    "             optimizer='sgd',\n",
    "             metrics=['accuracy'])"
   ]
  },
  {
   "cell_type": "code",
   "execution_count": 15,
   "id": "74786b81",
   "metadata": {},
   "outputs": [
    {
     "name": "stdout",
     "output_type": "stream",
     "text": [
      "Epoch 1/10\n",
      "1688/1688 [==============================] - 19s 10ms/step - loss: 2.2356 - accuracy: 0.2883 - val_loss: 2.2215 - val_accuracy: 0.3143\n",
      "Epoch 2/10\n",
      "1688/1688 [==============================] - 18s 10ms/step - loss: 2.1989 - accuracy: 0.3048 - val_loss: 2.1745 - val_accuracy: 0.3240\n",
      "Epoch 3/10\n",
      "1688/1688 [==============================] - 17s 10ms/step - loss: 2.1363 - accuracy: 0.3177 - val_loss: 2.0967 - val_accuracy: 0.2845\n",
      "Epoch 4/10\n",
      "1688/1688 [==============================] - 15s 9ms/step - loss: 2.0402 - accuracy: 0.3218 - val_loss: 1.9854 - val_accuracy: 0.2975\n",
      "Epoch 5/10\n",
      "1688/1688 [==============================] - 14s 8ms/step - loss: 1.9224 - accuracy: 0.3452 - val_loss: 1.8671 - val_accuracy: 0.3227\n",
      "Epoch 6/10\n",
      "1688/1688 [==============================] - 13s 8ms/step - loss: 1.8113 - accuracy: 0.3855 - val_loss: 1.7685 - val_accuracy: 0.4335\n",
      "Epoch 7/10\n",
      "1688/1688 [==============================] - 17s 10ms/step - loss: 1.7164 - accuracy: 0.4157 - val_loss: 1.6732 - val_accuracy: 0.4773\n",
      "Epoch 8/10\n",
      "1688/1688 [==============================] - 16s 10ms/step - loss: 1.6290 - accuracy: 0.4474 - val_loss: 1.5886 - val_accuracy: 0.4912\n",
      "Epoch 9/10\n",
      "1688/1688 [==============================] - 10s 6ms/step - loss: 1.5397 - accuracy: 0.4668 - val_loss: 1.4906 - val_accuracy: 0.4913\n",
      "Epoch 10/10\n",
      "1688/1688 [==============================] - 12s 7ms/step - loss: 1.4485 - accuracy: 0.4889 - val_loss: 1.4021 - val_accuracy: 0.4997\n"
     ]
    }
   ],
   "source": [
    "history = model.fit(X_train, y_train, epochs=10, validation_split=0.1)"
   ]
  },
  {
   "cell_type": "code",
   "execution_count": 16,
   "id": "0a668067",
   "metadata": {},
   "outputs": [],
   "source": [
    "import pandas as pd"
   ]
  },
  {
   "cell_type": "code",
   "execution_count": 17,
   "id": "9ff866be",
   "metadata": {},
   "outputs": [
    {
     "data": {
      "text/plain": [
       "<AxesSubplot:>"
      ]
     },
     "execution_count": 17,
     "metadata": {},
     "output_type": "execute_result"
    },
    {
     "data": {
      "image/png": "[encoded data removed]",
      "text/plain": [
       "<Figure size 432x288 with 1 Axes>"
      ]
     },
     "metadata": {
      "needs_background": "light"
     },
     "output_type": "display_data"
    }
   ],
   "source": [
    "pd.DataFrame(history.history).plot()"
   ]
  },
  {
   "cell_type": "code",
   "execution_count": 18,
   "id": "aa0f6ab1",
   "metadata": {},
   "outputs": [
    {
     "data": {
      "text/plain": [
       "array([[0.0000000e+00, 0.0000000e+00, 0.0000000e+00, 0.0000000e+00,\n",
       "        0.0000000e+00, 1.7354910e-34, 0.0000000e+00, 5.7974789e-23,\n",
       "        3.1481073e-29, 1.0000000e+00],\n",
       "       [2.3449515e-38, 0.0000000e+00, 1.5578051e-04, 0.0000000e+00,\n",
       "        9.9984419e-01, 0.0000000e+00, 0.0000000e+00, 0.0000000e+00,\n",
       "        0.0000000e+00, 0.0000000e+00],\n",
       "       [1.0000000e+00, 0.0000000e+00, 0.0000000e+00, 1.8918283e-28,\n",
       "        2.3503701e-29, 0.0000000e+00, 0.0000000e+00, 0.0000000e+00,\n",
       "        0.0000000e+00, 0.0000000e+00]], dtype=float32)"
      ]
     },
     "execution_count": 18,
     "metadata": {},
     "output_type": "execute_result"
    }
   ],
   "source": [
    "model.predict(X_test[:3])"
   ]
  },
  {
   "cell_type": "code",
   "execution_count": 19,
   "id": "578e4423",
   "metadata": {},
   "outputs": [],
   "source": [
    "import numpy as np"
   ]
  },
  {
   "cell_type": "code",
   "execution_count": 21,
   "id": "9d8d3968",
   "metadata": {},
   "outputs": [
    {
     "data": {
      "text/plain": [
       "array([9, 4, 0], dtype=int64)"
      ]
     },
     "execution_count": 21,
     "metadata": {},
     "output_type": "execute_result"
    }
   ],
   "source": [
    "np.argmax(model.predict(X_test[:3]), axis=1)"
   ]
  },
  {
   "cell_type": "code",
   "execution_count": 22,
   "id": "83f81cd7",
   "metadata": {},
   "outputs": [
    {
     "data": {
      "text/plain": [
       "array([9, 2, 1], dtype=uint8)"
      ]
     },
     "execution_count": 22,
     "metadata": {},
     "output_type": "execute_result"
    }
   ],
   "source": [
    "y_test[:3]"
   ]
  },
  {
   "cell_type": "code",
   "execution_count": 23,
   "id": "804e1694",
   "metadata": {},
   "outputs": [
    {
     "name": "stdout",
     "output_type": "stream",
     "text": [
      "313/313 [==============================] - 3s 8ms/step - loss: 44.3711 - accuracy: 0.2470\n"
     ]
    },
    {
     "data": {
      "text/plain": [
       "[44.37112045288086, 0.24699999392032623]"
      ]
     },
     "execution_count": 23,
     "metadata": {},
     "output_type": "execute_result"
    }
   ],
   "source": [
    "model.evaluate(X_test, y_test)"
   ]
  },
  {
   "cell_type": "code",
   "execution_count": 24,
   "id": "27ed2479",
   "metadata": {},
   "outputs": [],
   "source": [
    "p=np.argmax(model.predict(X_test),axis=1)"
   ]
  },
  {
   "cell_type": "code",
   "execution_count": 25,
   "id": "568a02c3",
   "metadata": {},
   "outputs": [],
   "source": [
    "from sklearn.metrics import confusion_matrix"
   ]
  },
  {
   "cell_type": "code",
   "execution_count": 26,
   "id": "f84c7650",
   "metadata": {},
   "outputs": [
    {
     "data": {
      "text/plain": [
       "array([[710,   0,   1,   0, 287,   0,   0,   0,   0,   2],\n",
       "       [973,   0,   1,   0,  26,   0,   0,   0,   0,   0],\n",
       "       [ 18,   0,   6,   0, 976,   0,   0,   0,   0,   0],\n",
       "       [891,   0,   1,   0, 108,   0,   0,   0,   0,   0],\n",
       "       [104,   0,   0,   0, 896,   0,   0,   0,   0,   0],\n",
       "       [  0,   0,  51,   0,  11,   0,   0,   3, 101, 834],\n",
       "       [230,   0,  15,   0, 754,   0,   0,   0,   1,   0],\n",
       "       [  0,   0,   0,   0,   0,   0,   0,  34,   3, 963],\n",
       "       [ 16,   0, 387,   0, 398,   0,   0,   0, 146,  53],\n",
       "       [  0,   0, 122,   0,  24,   0,   0,   0, 176, 678]], dtype=int64)"
      ]
     },
     "execution_count": 26,
     "metadata": {},
     "output_type": "execute_result"
    }
   ],
   "source": [
    "confusion_matrix(y_test, p)"
   ]
  },
  {
   "cell_type": "markdown",
   "id": "901d5dda",
   "metadata": {},
   "source": [
    "# tensorflow"
   ]
  },
  {
   "cell_type": "code",
   "execution_count": 27,
   "id": "d5441826",
   "metadata": {},
   "outputs": [],
   "source": [
    "# 텐서플로 데이터 셋 객체\n",
    "ds = tf.data.Dataset.from_tensor_slices(np.arange(5))"
   ]
  },
  {
   "cell_type": "code",
   "execution_count": 28,
   "id": "14eab5e6",
   "metadata": {},
   "outputs": [
    {
     "data": {
      "text/plain": [
       "<TensorSliceDataset shapes: (), types: tf.int32>"
      ]
     },
     "execution_count": 28,
     "metadata": {},
     "output_type": "execute_result"
    }
   ],
   "source": [
    "ds"
   ]
  },
  {
   "cell_type": "code",
   "execution_count": 30,
   "id": "3cb1a724",
   "metadata": {},
   "outputs": [
    {
     "name": "stdout",
     "output_type": "stream",
     "text": [
      "tf.Tensor(0, shape=(), dtype=int32)\n",
      "tf.Tensor(1, shape=(), dtype=int32)\n",
      "tf.Tensor(2, shape=(), dtype=int32)\n",
      "tf.Tensor(3, shape=(), dtype=int32)\n",
      "tf.Tensor(4, shape=(), dtype=int32)\n"
     ]
    }
   ],
   "source": [
    "for ex in ds:\n",
    "    print(ex)"
   ]
  },
  {
   "cell_type": "code",
   "execution_count": 31,
   "id": "87479f6f",
   "metadata": {},
   "outputs": [],
   "source": [
    "#신경망 입력 : 특성행렬, 레이블 백터\n",
    "X = tf.data.Dataset.from_tensor_slices([[1,2,3],[4,5,6],[7,8,9]])"
   ]
  },
  {
   "cell_type": "code",
   "execution_count": 32,
   "id": "ace63cb3",
   "metadata": {},
   "outputs": [],
   "source": [
    "y = tf.data.Dataset.from_tensor_slices([0,1,1])"
   ]
  },
  {
   "cell_type": "code",
   "execution_count": 33,
   "id": "5720c504",
   "metadata": {},
   "outputs": [],
   "source": [
    "my_dataset = tf.data.Dataset.zip((X,y))"
   ]
  },
  {
   "cell_type": "code",
   "execution_count": 34,
   "id": "0597ddc5",
   "metadata": {},
   "outputs": [
    {
     "name": "stdout",
     "output_type": "stream",
     "text": [
      "(<tf.Tensor: shape=(3,), dtype=int32, numpy=array([1, 2, 3])>, <tf.Tensor: shape=(), dtype=int32, numpy=0>)\n",
      "(<tf.Tensor: shape=(3,), dtype=int32, numpy=array([4, 5, 6])>, <tf.Tensor: shape=(), dtype=int32, numpy=1>)\n",
      "(<tf.Tensor: shape=(3,), dtype=int32, numpy=array([7, 8, 9])>, <tf.Tensor: shape=(), dtype=int32, numpy=1>)\n"
     ]
    }
   ],
   "source": [
    "for ex in my_dataset:\n",
    "    print(ex)"
   ]
  },
  {
   "cell_type": "code",
   "execution_count": null,
   "id": "efa9e5ce",
   "metadata": {},
   "outputs": [],
   "source": []
  }
 ],
 "metadata": {
  "kernelspec": {
   "display_name": "Python 3",
   "language": "python",
   "name": "python3"
  },
  "language_info": {
   "codemirror_mode": {
    "name": "ipython",
    "version": 3
   },
   "file_extension": ".py",
   "mimetype": "text/x-python",
   "name": "python",
   "nbconvert_exporter": "python",
   "pygments_lexer": "ipython3",
   "version": "3.8.8"
  }
 },
 "nbformat": 4,
 "nbformat_minor": 5
}
