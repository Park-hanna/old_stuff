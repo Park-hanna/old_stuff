{
 "cells": [
  {
   "cell_type": "markdown",
   "id": "a13bd89b",
   "metadata": {},
   "source": [
    "# 파이썬 키워드"
   ]
  },
  {
   "cell_type": "code",
   "execution_count": 3,
   "id": "3395f89c",
   "metadata": {},
   "outputs": [],
   "source": [
    "import keyword"
   ]
  },
  {
   "cell_type": "code",
   "execution_count": 5,
   "id": "ee68c532",
   "metadata": {},
   "outputs": [
    {
     "data": {
      "text/plain": [
       "35"
      ]
     },
     "execution_count": 5,
     "metadata": {},
     "output_type": "execute_result"
    }
   ],
   "source": [
    "len(keyword.kwlist)"
   ]
  },
  {
   "cell_type": "code",
   "execution_count": 7,
   "id": "8db6baa0",
   "metadata": {},
   "outputs": [
    {
     "data": {
      "text/plain": [
       "True"
      ]
     },
     "execution_count": 7,
     "metadata": {},
     "output_type": "execute_result"
    }
   ],
   "source": [
    "keyword.iskeyword('True')"
   ]
  },
  {
   "cell_type": "markdown",
   "id": "fbbf507d",
   "metadata": {},
   "source": [
    "# 조건문"
   ]
  },
  {
   "cell_type": "code",
   "execution_count": 12,
   "id": "3f0108bb",
   "metadata": {},
   "outputs": [
    {
     "name": "stdout",
     "output_type": "stream",
     "text": [
      "길이 =  70.0 너비 =  54.5\n"
     ]
    }
   ],
   "source": [
    "size = 'M'\n",
    "\n",
    "if size == 'S':\n",
    "    length, width = 68.0, 52.0\n",
    "elif size == 'M':\n",
    "    length, width = 70.0, 54.5\n",
    "else :\n",
    "    length, width = 72.0, 57.0\n",
    "    \n",
    "print('길이 = ',length, '너비 = ',width)"
   ]
  },
  {
   "cell_type": "code",
   "execution_count": 13,
   "id": "b7739051",
   "metadata": {},
   "outputs": [
    {
     "name": "stdout",
     "output_type": "stream",
     "text": [
      "Variable   Type      Data/Info\n",
      "------------------------------\n",
      "keyword    module    <module 'keyword' from 'C<...>conda3\\\\lib\\\\keyword.py'>\n",
      "length     float     70.0\n",
      "size       str       M\n",
      "width      float     54.5\n"
     ]
    }
   ],
   "source": [
    "%whos #객체 확인 할 수 있는 매직 명령어"
   ]
  },
  {
   "cell_type": "code",
   "execution_count": 15,
   "id": "cbe5ff15",
   "metadata": {},
   "outputs": [],
   "source": [
    "%xdel size"
   ]
  },
  {
   "cell_type": "code",
   "execution_count": 17,
   "id": "b45d3a2e",
   "metadata": {},
   "outputs": [
    {
     "name": "stdout",
     "output_type": "stream",
     "text": [
      "Variable   Type      Data/Info\n",
      "------------------------------\n",
      "keyword    module    <module 'keyword' from 'C<...>conda3\\\\lib\\\\keyword.py'>\n",
      "length     float     70.0\n",
      "width      float     54.5\n"
     ]
    }
   ],
   "source": [
    "%whos"
   ]
  },
  {
   "cell_type": "code",
   "execution_count": 18,
   "id": "3b107283",
   "metadata": {},
   "outputs": [
    {
     "name": "stdout",
     "output_type": "stream",
     "text": [
      "Once deleted, variables cannot be recovered. Proceed (y/[n])? y\n"
     ]
    }
   ],
   "source": [
    "%reset #다 지울수 있는 명령어"
   ]
  },
  {
   "cell_type": "code",
   "execution_count": 19,
   "id": "c45aeaf6",
   "metadata": {},
   "outputs": [
    {
     "name": "stdout",
     "output_type": "stream",
     "text": [
      "Interactive namespace is empty.\n"
     ]
    }
   ],
   "source": [
    "%whos"
   ]
  },
  {
   "cell_type": "code",
   "execution_count": 20,
   "id": "066ba616",
   "metadata": {},
   "outputs": [
    {
     "name": "stdout",
     "output_type": "stream",
     "text": [
      "Writing tsize.py\n"
     ]
    }
   ],
   "source": [
    "%%writefile tsize.py #파일 처리 가능한 명령어\n",
    "if __name__ == '__main__' :\n",
    "    size = 'M'\n",
    "\n",
    "    if size == 'S':\n",
    "        length, width = 68.0, 52.0\n",
    "    elif size == 'M':\n",
    "        length, width = 70.0, 54.5\n",
    "    else :\n",
    "        length, width = 72.0, 57.0\n",
    "\n",
    "    print('길이 = ',length, '너비 = ',width)"
   ]
  },
  {
   "cell_type": "code",
   "execution_count": 21,
   "id": "b49a6803",
   "metadata": {},
   "outputs": [
    {
     "name": "stdout",
     "output_type": "stream",
     "text": [
      "길이 =  70.0 너비 =  54.5\n"
     ]
    }
   ],
   "source": [
    "%run tsize #파일 실행 명령"
   ]
  },
  {
   "cell_type": "markdown",
   "id": "0624db89",
   "metadata": {},
   "source": [
    "# 반복문"
   ]
  },
  {
   "cell_type": "code",
   "execution_count": 24,
   "id": "48059d30",
   "metadata": {},
   "outputs": [
    {
     "name": "stdout",
     "output_type": "stream",
     "text": [
      "소수\n"
     ]
    }
   ],
   "source": [
    "n = 3\n",
    "i = 2\n",
    "while i < n:\n",
    "    if n % i == 0:\n",
    "        break\n",
    "    i = i + 1\n",
    "if i == n:    #2부터 (n-1)까지 나누어 떨어지는 i가 없음\n",
    "    print('소수')\n",
    "else:\n",
    "    print('소수가 아님')"
   ]
  },
  {
   "cell_type": "code",
   "execution_count": 26,
   "id": "24d4ed4e",
   "metadata": {},
   "outputs": [
    {
     "name": "stdout",
     "output_type": "stream",
     "text": [
      "21\n"
     ]
    }
   ],
   "source": [
    "my_list = [4,2,5,7,3] #list\n",
    "sum = 0\n",
    "for x in my_list:\n",
    "    sum += x\n",
    "print(sum)"
   ]
  },
  {
   "cell_type": "code",
   "execution_count": 28,
   "id": "fdd6b48a",
   "metadata": {},
   "outputs": [
    {
     "name": "stdout",
     "output_type": "stream",
     "text": [
      "1 2 3 4 5 6 7 8 9 "
     ]
    }
   ],
   "source": [
    "for x in range(1, 10):\n",
    "    print(x, end = ' ')"
   ]
  },
  {
   "cell_type": "code",
   "execution_count": 29,
   "id": "57a2f0dd",
   "metadata": {},
   "outputs": [
    {
     "name": "stdout",
     "output_type": "stream",
     "text": [
      "1 3 5 7 9 "
     ]
    }
   ],
   "source": [
    "for x in range(1, 10, 2):\n",
    "    print(x, end = ' ')"
   ]
  },
  {
   "cell_type": "code",
   "execution_count": 31,
   "id": "4a2e8e4f",
   "metadata": {},
   "outputs": [
    {
     "name": "stdout",
     "output_type": "stream",
     "text": [
      "2 3 4 "
     ]
    }
   ],
   "source": [
    "for x in range(2, 5):\n",
    "    print(x, end = ' ')"
   ]
  },
  {
   "cell_type": "code",
   "execution_count": 33,
   "id": "ded41e30",
   "metadata": {},
   "outputs": [
    {
     "name": "stdout",
     "output_type": "stream",
     "text": [
      "0 1 2 3 4 "
     ]
    }
   ],
   "source": [
    "for x in range(5):\n",
    "    print(x, end = ' ')"
   ]
  },
  {
   "cell_type": "code",
   "execution_count": 35,
   "id": "caecce05",
   "metadata": {},
   "outputs": [
    {
     "name": "stdout",
     "output_type": "stream",
     "text": [
      "hello hello hello hello hello "
     ]
    }
   ],
   "source": [
    "for x in range(5):\n",
    "    print('hello' , end = ' ')"
   ]
  },
  {
   "cell_type": "markdown",
   "id": "55123b3d",
   "metadata": {},
   "source": [
    "# 함수"
   ]
  },
  {
   "cell_type": "code",
   "execution_count": 37,
   "id": "8935936c",
   "metadata": {},
   "outputs": [],
   "source": [
    "def square(x):\n",
    "    return x * x"
   ]
  },
  {
   "cell_type": "code",
   "execution_count": 38,
   "id": "445e7291",
   "metadata": {},
   "outputs": [
    {
     "data": {
      "text/plain": [
       "9"
      ]
     },
     "execution_count": 38,
     "metadata": {},
     "output_type": "execute_result"
    }
   ],
   "source": [
    "square(3)"
   ]
  },
  {
   "cell_type": "code",
   "execution_count": 39,
   "id": "5396f37d",
   "metadata": {},
   "outputs": [],
   "source": [
    "def abs(x):\n",
    "    if x < 0:\n",
    "        return -x\n",
    "    else:\n",
    "        return x"
   ]
  },
  {
   "cell_type": "code",
   "execution_count": 40,
   "id": "15376304",
   "metadata": {},
   "outputs": [
    {
     "data": {
      "text/plain": [
       "5.6"
      ]
     },
     "execution_count": 40,
     "metadata": {},
     "output_type": "execute_result"
    }
   ],
   "source": [
    "abs(5.6)\n",
    "abs(-5.6)"
   ]
  },
  {
   "cell_type": "code",
   "execution_count": 41,
   "id": "e8282fd8",
   "metadata": {},
   "outputs": [],
   "source": [
    "def min_max(a, b):\n",
    "    if a < b:\n",
    "        return a, b\n",
    "    else:\n",
    "        return b, a"
   ]
  },
  {
   "cell_type": "code",
   "execution_count": 43,
   "id": "bc65fc92",
   "metadata": {},
   "outputs": [
    {
     "name": "stdout",
     "output_type": "stream",
     "text": [
      "min =  100 max =  200\n"
     ]
    }
   ],
   "source": [
    "min, max = min_max(100, 200)\n",
    "print('min = ',min, 'max = ',max)"
   ]
  },
  {
   "cell_type": "code",
   "execution_count": 2,
   "id": "f5191846",
   "metadata": {},
   "outputs": [],
   "source": [
    "def sum_to_n(n):\n",
    "    \"\"\"\n",
    "    n까지의 자연수의 합을 반환하는 함수\n",
    "    if n is not int TypeError\n",
    "    if n is less than 0 ValueError\n",
    "    \"\"\"\n",
    "    if type(n) is not int:\n",
    "        raise TypeError('n은 정수여야 함')\n",
    "    if n<0:\n",
    "        raise ValueError('n은 0보다 커야함')\n",
    "    sum = 0\n",
    "    for i in range(n+1):\n",
    "        sum += i\n",
    "    return sum"
   ]
  },
  {
   "cell_type": "code",
   "execution_count": 3,
   "id": "adfa3a7b",
   "metadata": {},
   "outputs": [
    {
     "data": {
      "text/plain": [
       "55"
      ]
     },
     "execution_count": 3,
     "metadata": {},
     "output_type": "execute_result"
    }
   ],
   "source": [
    "sum_to_n(10)"
   ]
  },
  {
   "cell_type": "code",
   "execution_count": 5,
   "id": "c6884b1f",
   "metadata": {},
   "outputs": [
    {
     "data": {
      "text/plain": [
       "15"
      ]
     },
     "execution_count": 5,
     "metadata": {},
     "output_type": "execute_result"
    }
   ],
   "source": [
    "sum_to_n(5)"
   ]
  },
  {
   "cell_type": "code",
   "execution_count": 7,
   "id": "95a3eb64",
   "metadata": {},
   "outputs": [
    {
     "data": {
      "text/plain": [
       "15"
      ]
     },
     "execution_count": 7,
     "metadata": {},
     "output_type": "execute_result"
    }
   ],
   "source": [
    "sum_to_n(5)"
   ]
  },
  {
   "cell_type": "code",
   "execution_count": 8,
   "id": "8406a9a6",
   "metadata": {},
   "outputs": [],
   "source": [
    "sum_to_n??"
   ]
  },
  {
   "cell_type": "code",
   "execution_count": 81,
   "id": "4f1f2522",
   "metadata": {},
   "outputs": [],
   "source": [
    "def sum_f(a, f = lambda x : x):\n",
    "    \"\"\"\n",
    "    squence a의 각 원소에 함수 f를 취한 값의 합\n",
    "    lambda 함수는 정렬에 많이 사용됨\n",
    "    parameter\n",
    "    --------\n",
    "    a : sequence\n",
    "    f : function defualt : identity function\n",
    "    --------\n",
    "    \"\"\"\n",
    "    sum = 0\n",
    "    for v in a:\n",
    "        sum += f(v)\n",
    "    return sum"
   ]
  },
  {
   "cell_type": "code",
   "execution_count": 74,
   "id": "33656960",
   "metadata": {},
   "outputs": [],
   "source": [
    "def sq(x) : return x * x"
   ]
  },
  {
   "cell_type": "code",
   "execution_count": 75,
   "id": "93991a45",
   "metadata": {},
   "outputs": [
    {
     "data": {
      "text/plain": [
       "45"
      ]
     },
     "execution_count": 75,
     "metadata": {},
     "output_type": "execute_result"
    }
   ],
   "source": [
    "my_list2 = [5,2,4]\n",
    "sum_f(my_list2, sq)"
   ]
  },
  {
   "cell_type": "code",
   "execution_count": 76,
   "id": "a6841586",
   "metadata": {},
   "outputs": [],
   "source": [
    "import math"
   ]
  },
  {
   "cell_type": "code",
   "execution_count": 77,
   "id": "33d50b12",
   "metadata": {},
   "outputs": [
    {
     "data": {
      "text/plain": [
       "5.650281539872885"
      ]
     },
     "execution_count": 77,
     "metadata": {},
     "output_type": "execute_result"
    }
   ],
   "source": [
    "sum_f(my_list2, math.sqrt)"
   ]
  },
  {
   "cell_type": "code",
   "execution_count": 78,
   "id": "2bf7eb04",
   "metadata": {},
   "outputs": [
    {
     "data": {
      "text/plain": [
       "45"
      ]
     },
     "execution_count": 78,
     "metadata": {},
     "output_type": "execute_result"
    }
   ],
   "source": [
    "sum_f(my_list2, lambda x : x*x)"
   ]
  },
  {
   "cell_type": "code",
   "execution_count": 79,
   "id": "94778d8a",
   "metadata": {},
   "outputs": [
    {
     "data": {
      "text/plain": [
       "1"
      ]
     },
     "execution_count": 79,
     "metadata": {},
     "output_type": "execute_result"
    }
   ],
   "source": [
    "sum_f(my_list2, lambda x : x%2)"
   ]
  },
  {
   "cell_type": "code",
   "execution_count": 80,
   "id": "058eabac",
   "metadata": {},
   "outputs": [
    {
     "data": {
      "text/plain": [
       "11"
      ]
     },
     "execution_count": 80,
     "metadata": {},
     "output_type": "execute_result"
    }
   ],
   "source": [
    "sum_f(my_list2)"
   ]
  },
  {
   "cell_type": "code",
   "execution_count": 85,
   "id": "9e4d3111",
   "metadata": {},
   "outputs": [],
   "source": [
    "s = ['tiger','giraffe', 'cat', 'dog']"
   ]
  },
  {
   "cell_type": "code",
   "execution_count": 83,
   "id": "8e79a902",
   "metadata": {},
   "outputs": [],
   "source": [
    "s.sort()"
   ]
  },
  {
   "cell_type": "code",
   "execution_count": 86,
   "id": "2858737e",
   "metadata": {},
   "outputs": [
    {
     "data": {
      "text/plain": [
       "['tiger', 'giraffe', 'cat', 'dog']"
      ]
     },
     "execution_count": 86,
     "metadata": {},
     "output_type": "execute_result"
    }
   ],
   "source": [
    "s"
   ]
  },
  {
   "cell_type": "code",
   "execution_count": 87,
   "id": "6e2b3bfe",
   "metadata": {},
   "outputs": [],
   "source": [
    "s.sort(key=lambda x : len(x))"
   ]
  },
  {
   "cell_type": "code",
   "execution_count": 88,
   "id": "29011a43",
   "metadata": {},
   "outputs": [
    {
     "data": {
      "text/plain": [
       "['cat', 'dog', 'tiger', 'giraffe']"
      ]
     },
     "execution_count": 88,
     "metadata": {},
     "output_type": "execute_result"
    }
   ],
   "source": [
    "s"
   ]
  },
  {
   "cell_type": "markdown",
   "id": "d4606715",
   "metadata": {},
   "source": [
    "# 파이썬 자료구조"
   ]
  },
  {
   "cell_type": "code",
   "execution_count": 89,
   "id": "74d97679",
   "metadata": {},
   "outputs": [],
   "source": [
    "lst = [5,3,4,7,5,2.4,6,5,4]"
   ]
  },
  {
   "cell_type": "code",
   "execution_count": 90,
   "id": "667345a2",
   "metadata": {},
   "outputs": [
    {
     "data": {
      "text/plain": [
       "list"
      ]
     },
     "execution_count": 90,
     "metadata": {},
     "output_type": "execute_result"
    }
   ],
   "source": [
    "type(lst)"
   ]
  },
  {
   "cell_type": "code",
   "execution_count": 91,
   "id": "fd36aff2",
   "metadata": {},
   "outputs": [],
   "source": [
    "lst.append(100)"
   ]
  },
  {
   "cell_type": "code",
   "execution_count": 92,
   "id": "a36a269f",
   "metadata": {},
   "outputs": [
    {
     "data": {
      "text/plain": [
       "[5, 3, 4, 7, 5, 2.4, 6, 5, 4, 100]"
      ]
     },
     "execution_count": 92,
     "metadata": {},
     "output_type": "execute_result"
    }
   ],
   "source": [
    "lst"
   ]
  },
  {
   "cell_type": "code",
   "execution_count": 93,
   "id": "c0350351",
   "metadata": {},
   "outputs": [],
   "source": [
    "lst.sort(reverse=True)"
   ]
  },
  {
   "cell_type": "code",
   "execution_count": 94,
   "id": "077f797b",
   "metadata": {},
   "outputs": [
    {
     "data": {
      "text/plain": [
       "[100, 7, 6, 5, 5, 5, 4, 4, 3, 2.4]"
      ]
     },
     "execution_count": 94,
     "metadata": {},
     "output_type": "execute_result"
    }
   ],
   "source": [
    "lst"
   ]
  },
  {
   "cell_type": "code",
   "execution_count": 95,
   "id": "2fa7f941",
   "metadata": {},
   "outputs": [],
   "source": [
    "seq = [6,64,8,4,3]"
   ]
  },
  {
   "cell_type": "code",
   "execution_count": 96,
   "id": "be9dde74",
   "metadata": {},
   "outputs": [
    {
     "data": {
      "text/plain": [
       "[8, 4]"
      ]
     },
     "execution_count": 96,
     "metadata": {},
     "output_type": "execute_result"
    }
   ],
   "source": [
    "seq[2:4]"
   ]
  },
  {
   "cell_type": "code",
   "execution_count": 97,
   "id": "a38ca318",
   "metadata": {},
   "outputs": [],
   "source": [
    "m = [[1,2,3], [6,7,8]]"
   ]
  },
  {
   "cell_type": "code",
   "execution_count": 98,
   "id": "454260a0",
   "metadata": {},
   "outputs": [
    {
     "data": {
      "text/plain": [
       "[[1, 2, 3], [6, 7, 8]]"
      ]
     },
     "execution_count": 98,
     "metadata": {},
     "output_type": "execute_result"
    }
   ],
   "source": [
    "m"
   ]
  },
  {
   "cell_type": "code",
   "execution_count": 99,
   "id": "fdcd43f4",
   "metadata": {},
   "outputs": [
    {
     "data": {
      "text/plain": [
       "2"
      ]
     },
     "execution_count": 99,
     "metadata": {},
     "output_type": "execute_result"
    }
   ],
   "source": [
    "m[0][1]"
   ]
  },
  {
   "cell_type": "code",
   "execution_count": 100,
   "id": "cd4fa179",
   "metadata": {},
   "outputs": [
    {
     "data": {
      "text/plain": [
       "[1, 2, 3]"
      ]
     },
     "execution_count": 100,
     "metadata": {},
     "output_type": "execute_result"
    }
   ],
   "source": [
    "m[0]"
   ]
  },
  {
   "cell_type": "code",
   "execution_count": 101,
   "id": "8fedaa8d",
   "metadata": {},
   "outputs": [],
   "source": [
    "t = (4,5,6)"
   ]
  },
  {
   "cell_type": "code",
   "execution_count": 102,
   "id": "77e2135d",
   "metadata": {},
   "outputs": [
    {
     "data": {
      "text/plain": [
       "tuple"
      ]
     },
     "execution_count": 102,
     "metadata": {},
     "output_type": "execute_result"
    }
   ],
   "source": [
    "type(t)"
   ]
  },
  {
   "cell_type": "code",
   "execution_count": 103,
   "id": "64d3fc63",
   "metadata": {},
   "outputs": [],
   "source": [
    "a, b, c = t"
   ]
  },
  {
   "cell_type": "code",
   "execution_count": 116,
   "id": "a99953fb",
   "metadata": {},
   "outputs": [
    {
     "data": {
      "text/plain": [
       "4"
      ]
     },
     "execution_count": 116,
     "metadata": {},
     "output_type": "execute_result"
    }
   ],
   "source": [
    "a"
   ]
  },
  {
   "cell_type": "code",
   "execution_count": 117,
   "id": "4557e7da",
   "metadata": {},
   "outputs": [],
   "source": [
    "lst = [5,2,8,9,6]"
   ]
  },
  {
   "cell_type": "code",
   "execution_count": 118,
   "id": "c154a619",
   "metadata": {},
   "outputs": [
    {
     "name": "stdout",
     "output_type": "stream",
     "text": [
      "0 5\n",
      "1 2\n",
      "2 8\n",
      "3 9\n",
      "4 6\n"
     ]
    }
   ],
   "source": [
    "for i, x in enumerate(lst):\n",
    "    print(i,x)"
   ]
  },
  {
   "cell_type": "code",
   "execution_count": 123,
   "id": "70c21450",
   "metadata": {},
   "outputs": [],
   "source": [
    "x = [2,4,6,9]\n",
    "y=[100,200,300]"
   ]
  },
  {
   "cell_type": "code",
   "execution_count": 124,
   "id": "daffaa70",
   "metadata": {},
   "outputs": [
    {
     "name": "stdout",
     "output_type": "stream",
     "text": [
      "2 100\n",
      "4 200\n",
      "6 300\n"
     ]
    }
   ],
   "source": [
    "for a, b in zip(x,y):\n",
    "    print(a,b)"
   ]
  },
  {
   "cell_type": "code",
   "execution_count": 125,
   "id": "2db149f2",
   "metadata": {},
   "outputs": [],
   "source": [
    "d = {'한국':'서울','일본':'동경','중국':'북경'}"
   ]
  },
  {
   "cell_type": "code",
   "execution_count": 126,
   "id": "028a2991",
   "metadata": {},
   "outputs": [
    {
     "data": {
      "text/plain": [
       "dict"
      ]
     },
     "execution_count": 126,
     "metadata": {},
     "output_type": "execute_result"
    }
   ],
   "source": [
    "type(d)"
   ]
  },
  {
   "cell_type": "code",
   "execution_count": 127,
   "id": "7b07f85f",
   "metadata": {},
   "outputs": [
    {
     "data": {
      "text/plain": [
       "'서울'"
      ]
     },
     "execution_count": 127,
     "metadata": {},
     "output_type": "execute_result"
    }
   ],
   "source": [
    "d['한국']"
   ]
  },
  {
   "cell_type": "code",
   "execution_count": 128,
   "id": "e2482d13",
   "metadata": {},
   "outputs": [],
   "source": [
    "d['프랑스'] = '파리'"
   ]
  },
  {
   "cell_type": "code",
   "execution_count": 129,
   "id": "0fd29c53",
   "metadata": {},
   "outputs": [
    {
     "data": {
      "text/plain": [
       "{'한국': '서울', '일본': '동경', '중국': '북경', '프랑스': '파리'}"
      ]
     },
     "execution_count": 129,
     "metadata": {},
     "output_type": "execute_result"
    }
   ],
   "source": [
    "d"
   ]
  },
  {
   "cell_type": "code",
   "execution_count": 130,
   "id": "dbbc0386",
   "metadata": {},
   "outputs": [],
   "source": [
    "del d['일본']"
   ]
  },
  {
   "cell_type": "code",
   "execution_count": 131,
   "id": "a23b79dd",
   "metadata": {},
   "outputs": [
    {
     "data": {
      "text/plain": [
       "{'한국': '서울', '중국': '북경', '프랑스': '파리'}"
      ]
     },
     "execution_count": 131,
     "metadata": {},
     "output_type": "execute_result"
    }
   ],
   "source": [
    "d"
   ]
  },
  {
   "cell_type": "code",
   "execution_count": 133,
   "id": "e86d36a1",
   "metadata": {},
   "outputs": [
    {
     "data": {
      "text/plain": [
       "dict_keys(['한국', '중국', '프랑스'])"
      ]
     },
     "execution_count": 133,
     "metadata": {},
     "output_type": "execute_result"
    }
   ],
   "source": [
    "d.keys()"
   ]
  },
  {
   "cell_type": "code",
   "execution_count": 135,
   "id": "871a8f01",
   "metadata": {},
   "outputs": [
    {
     "data": {
      "text/plain": [
       "dict_values(['서울', '북경', '파리'])"
      ]
     },
     "execution_count": 135,
     "metadata": {},
     "output_type": "execute_result"
    }
   ],
   "source": [
    "d.values()"
   ]
  },
  {
   "cell_type": "code",
   "execution_count": 136,
   "id": "490e9fd4",
   "metadata": {},
   "outputs": [
    {
     "data": {
      "text/plain": [
       "dict_items([('한국', '서울'), ('중국', '북경'), ('프랑스', '파리')])"
      ]
     },
     "execution_count": 136,
     "metadata": {},
     "output_type": "execute_result"
    }
   ],
   "source": [
    "d.items()"
   ]
  },
  {
   "cell_type": "code",
   "execution_count": 137,
   "id": "bfed6134",
   "metadata": {},
   "outputs": [],
   "source": [
    "d['한국']='Seoul'"
   ]
  },
  {
   "cell_type": "code",
   "execution_count": 138,
   "id": "a6000d36",
   "metadata": {},
   "outputs": [
    {
     "data": {
      "text/plain": [
       "{'한국': 'Seoul', '중국': '북경', '프랑스': '파리'}"
      ]
     },
     "execution_count": 138,
     "metadata": {},
     "output_type": "execute_result"
    }
   ],
   "source": [
    "d"
   ]
  },
  {
   "cell_type": "code",
   "execution_count": 141,
   "id": "36100ebd",
   "metadata": {},
   "outputs": [],
   "source": [
    "s1 = {1,2,3,3}"
   ]
  },
  {
   "cell_type": "code",
   "execution_count": 142,
   "id": "6b0985cd",
   "metadata": {},
   "outputs": [
    {
     "data": {
      "text/plain": [
       "{1, 2, 3}"
      ]
     },
     "execution_count": 142,
     "metadata": {},
     "output_type": "execute_result"
    }
   ],
   "source": [
    "s1"
   ]
  },
  {
   "cell_type": "code",
   "execution_count": 143,
   "id": "34f520be",
   "metadata": {},
   "outputs": [],
   "source": [
    "s2={2,3,4}"
   ]
  },
  {
   "cell_type": "code",
   "execution_count": 144,
   "id": "648081c5",
   "metadata": {},
   "outputs": [
    {
     "data": {
      "text/plain": [
       "{1, 2, 3, 4}"
      ]
     },
     "execution_count": 144,
     "metadata": {},
     "output_type": "execute_result"
    }
   ],
   "source": [
    "s1.union(s2)"
   ]
  },
  {
   "cell_type": "code",
   "execution_count": 148,
   "id": "53773544",
   "metadata": {},
   "outputs": [
    {
     "data": {
      "text/plain": [
       "{2, 3}"
      ]
     },
     "execution_count": 148,
     "metadata": {},
     "output_type": "execute_result"
    }
   ],
   "source": [
    "s1.intersection(s2)"
   ]
  },
  {
   "cell_type": "code",
   "execution_count": 151,
   "id": "e2d55367",
   "metadata": {},
   "outputs": [],
   "source": [
    "x = [a for a in range(5) if a % 2 == 0]"
   ]
  },
  {
   "cell_type": "code",
   "execution_count": 152,
   "id": "ec4c6213",
   "metadata": {},
   "outputs": [
    {
     "data": {
      "text/plain": [
       "[0, 2, 4]"
      ]
     },
     "execution_count": 152,
     "metadata": {},
     "output_type": "execute_result"
    }
   ],
   "source": [
    "x"
   ]
  },
  {
   "cell_type": "code",
   "execution_count": 156,
   "id": "e02123f5",
   "metadata": {},
   "outputs": [],
   "source": [
    "strings = ['a','as','bat','car','dove','python']"
   ]
  },
  {
   "cell_type": "code",
   "execution_count": 157,
   "id": "a57176fd",
   "metadata": {},
   "outputs": [
    {
     "data": {
      "text/plain": [
       "['BAT', 'CAR', 'DOVE', 'PYTHON']"
      ]
     },
     "execution_count": 157,
     "metadata": {},
     "output_type": "execute_result"
    }
   ],
   "source": [
    "[x.upper() for x in strings if len(x) > 2]"
   ]
  },
  {
   "cell_type": "code",
   "execution_count": 158,
   "id": "028a138d",
   "metadata": {},
   "outputs": [],
   "source": [
    "def squares(n = 10):\n",
    "    for i in range(1,n+1):\n",
    "        yield i ** 2"
   ]
  },
  {
   "cell_type": "code",
   "execution_count": 159,
   "id": "fd9f336c",
   "metadata": {},
   "outputs": [
    {
     "data": {
      "text/plain": [
       "<generator object squares at 0x000001DC9916C660>"
      ]
     },
     "execution_count": 159,
     "metadata": {},
     "output_type": "execute_result"
    }
   ],
   "source": [
    "squares(5)"
   ]
  },
  {
   "cell_type": "code",
   "execution_count": null,
   "id": "2563b797",
   "metadata": {},
   "outputs": [],
   "source": []
  }
 ],
 "metadata": {
  "kernelspec": {
   "display_name": "Python 3",
   "language": "python",
   "name": "python3"
  },
  "language_info": {
   "codemirror_mode": {
    "name": "ipython",
    "version": 3
   },
   "file_extension": ".py",
   "mimetype": "text/x-python",
   "name": "python",
   "nbconvert_exporter": "python",
   "pygments_lexer": "ipython3",
   "version": "3.8.8"
  }
 },
 "nbformat": 4,
 "nbformat_minor": 5
}
